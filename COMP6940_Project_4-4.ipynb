{
  "nbformat": 4,
  "nbformat_minor": 0,
  "metadata": {
    "colab": {
      "name": "COMP6940_Project-4.ipynb",
      "provenance": [],
      "collapsed_sections": [],
      "machine_shape": "hm"
    },
    "kernelspec": {
      "display_name": "Python 3",
      "name": "python3"
    },
    "language_info": {
      "name": "python"
    },
    "accelerator": "GPU"
  },
  "cells": [
    {
      "cell_type": "code",
      "metadata": {
        "colab": {
          "base_uri": "https://localhost:8080/"
        },
        "id": "fLE01UBUrVtn",
        "outputId": "7cc978d2-756d-4b76-ec76-b11eddf72f32"
      },
      "source": [
        "import pandas as pd #We will be using this library for importing and manipulating data\n",
        "pd.set_option('float_format', '{:f}'.format)\n",
        "import plotly.express as graphs # We will be using this library for our data visualizations\n",
        "import folium # We will be using this library for data visualizations as well\n",
        "from folium.plugins import FastMarkerCluster\n",
        "import re\n",
        "from sklearn.model_selection import train_test_split\n",
        "from nltk import FreqDist\n",
        "from keras.preprocessing.text import Tokenizer\n",
        "from sklearn.metrics import accuracy_score\n",
        "import matplotlib.pyplot as plt\n",
        "from keras.callbacks import EarlyStopping\n",
        "from keras.models import Sequential\n",
        "from keras.layers import Dense, Embedding, LSTM, SpatialDropout1D\n",
        "from keras.preprocessing import sequence,text\n",
        "from nltk.corpus import stopwords\n",
        "import nltk\n",
        "from nltk.tokenize import sent_tokenize, word_tokenize\n",
        "import gc\n",
        "import torch\n",
        "from sklearn.feature_extraction.text import TfidfVectorizer\n",
        "from sklearn.cluster import MiniBatchKMeans\n",
        "from wordcloud import WordCloud\n",
        "import numpy as np\n",
        "nltk.download('stopwords')\n",
        "nltk.download('punkt')"
      ],
      "execution_count": null,
      "outputs": [
        {
          "output_type": "stream",
          "text": [
            "[nltk_data] Downloading package stopwords to /root/nltk_data...\n",
            "[nltk_data]   Package stopwords is already up-to-date!\n",
            "[nltk_data] Downloading package punkt to /root/nltk_data...\n",
            "[nltk_data]   Package punkt is already up-to-date!\n"
          ],
          "name": "stdout"
        },
        {
          "output_type": "execute_result",
          "data": {
            "text/plain": [
              "True"
            ]
          },
          "metadata": {
            "tags": []
          },
          "execution_count": 1
        }
      ]
    },
    {
      "cell_type": "code",
      "metadata": {
        "colab": {
          "base_uri": "https://localhost:8080/"
        },
        "id": "cc9EXJTH6v0m",
        "outputId": "0e9e7ab9-3a1a-42c3-ab65-90c502a21606"
      },
      "source": [
        "from google.colab import drive\n",
        "drive.mount('/content/drive')"
      ],
      "execution_count": null,
      "outputs": [
        {
          "output_type": "stream",
          "text": [
            "Drive already mounted at /content/drive; to attempt to forcibly remount, call drive.mount(\"/content/drive\", force_remount=True).\n"
          ],
          "name": "stdout"
        }
      ]
    },
    {
      "cell_type": "markdown",
      "metadata": {
        "id": "uaT0jCBUnTdI"
      },
      "source": [
        "#**Input**\n"
      ]
    },
    {
      "cell_type": "code",
      "metadata": {
        "colab": {
          "base_uri": "https://localhost:8080/"
        },
        "id": "KXNRJ9aqrvmA",
        "outputId": "8ecd1a35-ae51-4e83-bbb9-e65c218faac3"
      },
      "source": [
        "df = pd.read_csv('/content/drive/My Drive/project_data.csv') #df = pd.read_csv('/content/drive/My Drive/airbnb/airbnb_barbados.csv')"
      ],
      "execution_count": null,
      "outputs": [
        {
          "output_type": "stream",
          "text": [
            "/usr/local/lib/python3.7/dist-packages/IPython/core/interactiveshell.py:2718: DtypeWarning:\n",
            "\n",
            "Columns (14,16) have mixed types.Specify dtype option on import or set low_memory=False.\n",
            "\n"
          ],
          "name": "stderr"
        }
      ]
    },
    {
      "cell_type": "markdown",
      "metadata": {
        "id": "_6U0djdcnZ3H"
      },
      "source": [
        "#**Dataset Exploration**"
      ]
    },
    {
      "cell_type": "code",
      "metadata": {
        "colab": {
          "base_uri": "https://localhost:8080/",
          "height": 581
        },
        "id": "i6sV1JxFsYRK",
        "outputId": "f86dca7d-757d-4446-af8d-3e352a63aaa1"
      },
      "source": [
        "df.head()"
      ],
      "execution_count": null,
      "outputs": [
        {
          "output_type": "execute_result",
          "data": {
            "text/html": [
              "<div>\n",
              "<style scoped>\n",
              "    .dataframe tbody tr th:only-of-type {\n",
              "        vertical-align: middle;\n",
              "    }\n",
              "\n",
              "    .dataframe tbody tr th {\n",
              "        vertical-align: top;\n",
              "    }\n",
              "\n",
              "    .dataframe thead th {\n",
              "        text-align: right;\n",
              "    }\n",
              "</style>\n",
              "<table border=\"1\" class=\"dataframe\">\n",
              "  <thead>\n",
              "    <tr style=\"text-align: right;\">\n",
              "      <th></th>\n",
              "      <th>Unnamed: 0</th>\n",
              "      <th>id</th>\n",
              "      <th>domain</th>\n",
              "      <th>type</th>\n",
              "      <th>url</th>\n",
              "      <th>content</th>\n",
              "      <th>scraped_at</th>\n",
              "      <th>inserted_at</th>\n",
              "      <th>updated_at</th>\n",
              "      <th>title</th>\n",
              "      <th>authors</th>\n",
              "      <th>keywords</th>\n",
              "      <th>meta_keywords</th>\n",
              "      <th>meta_description</th>\n",
              "      <th>tags</th>\n",
              "      <th>summary</th>\n",
              "      <th>source</th>\n",
              "    </tr>\n",
              "  </thead>\n",
              "  <tbody>\n",
              "    <tr>\n",
              "      <th>0</th>\n",
              "      <td>27</td>\n",
              "      <td>34.000000</td>\n",
              "      <td>beforeitsnews.com</td>\n",
              "      <td>fake</td>\n",
              "      <td>http://beforeitsnews.com/opinion-conservative/...</td>\n",
              "      <td>Headline: Bitcoin &amp; Blockchain Searches Exceed...</td>\n",
              "      <td>2018-01-25 16:17:44.789555</td>\n",
              "      <td>2018-02-02 01:19:41.756632</td>\n",
              "      <td>2018-02-02 01:19:41.756664</td>\n",
              "      <td>Surprise: Socialist Hotbed Of Venezuela Has Lo...</td>\n",
              "      <td>The Pirate'S Cove</td>\n",
              "      <td>nan</td>\n",
              "      <td>['']</td>\n",
              "      <td>NaN</td>\n",
              "      <td>NaN</td>\n",
              "      <td>nan</td>\n",
              "      <td>NaN</td>\n",
              "    </tr>\n",
              "    <tr>\n",
              "      <th>1</th>\n",
              "      <td>28</td>\n",
              "      <td>35.000000</td>\n",
              "      <td>beforeitsnews.com</td>\n",
              "      <td>fake</td>\n",
              "      <td>http://beforeitsnews.com/politics/2018/01/wate...</td>\n",
              "      <td>Water Cooler 1/25/18 Open Thread; Fake News ? ...</td>\n",
              "      <td>2018-01-25 16:17:44.789555</td>\n",
              "      <td>2018-02-02 01:19:41.756632</td>\n",
              "      <td>2018-02-02 01:19:41.756664</td>\n",
              "      <td>Water Cooler 1/25/18 Open Thread; Fake News ? ...</td>\n",
              "      <td>NaN</td>\n",
              "      <td>nan</td>\n",
              "      <td>['']</td>\n",
              "      <td>NaN</td>\n",
              "      <td>NaN</td>\n",
              "      <td>nan</td>\n",
              "      <td>NaN</td>\n",
              "    </tr>\n",
              "    <tr>\n",
              "      <th>2</th>\n",
              "      <td>29</td>\n",
              "      <td>36.000000</td>\n",
              "      <td>beforeitsnews.com</td>\n",
              "      <td>fake</td>\n",
              "      <td>http://beforeitsnews.com/politics/2018/01/vete...</td>\n",
              "      <td>Veteran Commentator Calls Out the Growing “Eth...</td>\n",
              "      <td>2018-01-25 16:17:44.789555</td>\n",
              "      <td>2018-02-02 01:19:41.756632</td>\n",
              "      <td>2018-02-02 01:19:41.756664</td>\n",
              "      <td>Veteran Commentator Calls Out the Growing “Eth...</td>\n",
              "      <td>NaN</td>\n",
              "      <td>nan</td>\n",
              "      <td>['']</td>\n",
              "      <td>NaN</td>\n",
              "      <td>NaN</td>\n",
              "      <td>nan</td>\n",
              "      <td>NaN</td>\n",
              "    </tr>\n",
              "    <tr>\n",
              "      <th>3</th>\n",
              "      <td>30</td>\n",
              "      <td>37.000000</td>\n",
              "      <td>beforeitsnews.com</td>\n",
              "      <td>fake</td>\n",
              "      <td>http://beforeitsnews.com/arts/2018/01/lost-wor...</td>\n",
              "      <td>Lost Words, Hidden Words, Otters, Banks and Bo...</td>\n",
              "      <td>2018-01-25 16:17:44.789555</td>\n",
              "      <td>2018-02-02 01:19:41.756632</td>\n",
              "      <td>2018-02-02 01:19:41.756664</td>\n",
              "      <td>Lost Words, Hidden Words, Otters, Banks and Books</td>\n",
              "      <td>Jackie Morris Artist</td>\n",
              "      <td>nan</td>\n",
              "      <td>['']</td>\n",
              "      <td>NaN</td>\n",
              "      <td>NaN</td>\n",
              "      <td>nan</td>\n",
              "      <td>NaN</td>\n",
              "    </tr>\n",
              "    <tr>\n",
              "      <th>4</th>\n",
              "      <td>31</td>\n",
              "      <td>38.000000</td>\n",
              "      <td>beforeitsnews.com</td>\n",
              "      <td>fake</td>\n",
              "      <td>http://beforeitsnews.com/financial-markets/201...</td>\n",
              "      <td>Red Alert: Bond Yields Are SCREAMING “Inflatio...</td>\n",
              "      <td>2018-01-25 16:17:44.789555</td>\n",
              "      <td>2018-02-02 01:19:41.756632</td>\n",
              "      <td>2018-02-02 01:19:41.756664</td>\n",
              "      <td>Red Alert: Bond Yields Are SCREAMING “Inflatio...</td>\n",
              "      <td>Phoenix Capital Research</td>\n",
              "      <td>nan</td>\n",
              "      <td>['']</td>\n",
              "      <td>NaN</td>\n",
              "      <td>NaN</td>\n",
              "      <td>nan</td>\n",
              "      <td>NaN</td>\n",
              "    </tr>\n",
              "  </tbody>\n",
              "</table>\n",
              "</div>"
            ],
            "text/plain": [
              "   Unnamed: 0        id             domain  ... tags summary source\n",
              "0          27 34.000000  beforeitsnews.com  ...  NaN     nan    NaN\n",
              "1          28 35.000000  beforeitsnews.com  ...  NaN     nan    NaN\n",
              "2          29 36.000000  beforeitsnews.com  ...  NaN     nan    NaN\n",
              "3          30 37.000000  beforeitsnews.com  ...  NaN     nan    NaN\n",
              "4          31 38.000000  beforeitsnews.com  ...  NaN     nan    NaN\n",
              "\n",
              "[5 rows x 17 columns]"
            ]
          },
          "metadata": {
            "tags": []
          },
          "execution_count": 4
        }
      ]
    },
    {
      "cell_type": "code",
      "metadata": {
        "colab": {
          "base_uri": "https://localhost:8080/"
        },
        "id": "GWGM_MJRsaw3",
        "outputId": "54c71d4a-cc74-4c9c-95c2-1faca552203a"
      },
      "source": [
        "df.shape"
      ],
      "execution_count": null,
      "outputs": [
        {
          "output_type": "execute_result",
          "data": {
            "text/plain": [
              "(380702, 17)"
            ]
          },
          "metadata": {
            "tags": []
          },
          "execution_count": 5
        }
      ]
    },
    {
      "cell_type": "code",
      "metadata": {
        "colab": {
          "base_uri": "https://localhost:8080/"
        },
        "id": "HSR2m5ZRnvmS",
        "outputId": "cf2556b3-c637-4e3e-c471-50d4f889096f"
      },
      "source": [
        "df.dtypes"
      ],
      "execution_count": null,
      "outputs": [
        {
          "output_type": "execute_result",
          "data": {
            "text/plain": [
              "Unnamed: 0            int64\n",
              "id                  float64\n",
              "domain               object\n",
              "type                 object\n",
              "url                  object\n",
              "content              object\n",
              "scraped_at           object\n",
              "inserted_at          object\n",
              "updated_at           object\n",
              "title                object\n",
              "authors              object\n",
              "keywords            float64\n",
              "meta_keywords        object\n",
              "meta_description     object\n",
              "tags                 object\n",
              "summary             float64\n",
              "source               object\n",
              "dtype: object"
            ]
          },
          "metadata": {
            "tags": []
          },
          "execution_count": 6
        }
      ]
    },
    {
      "cell_type": "code",
      "metadata": {
        "colab": {
          "base_uri": "https://localhost:8080/",
          "height": 297
        },
        "id": "hIg7aBHspbUA",
        "outputId": "528ea41d-6b77-4db3-9284-7a29d3b9de78"
      },
      "source": [
        "df.describe()"
      ],
      "execution_count": null,
      "outputs": [
        {
          "output_type": "execute_result",
          "data": {
            "text/html": [
              "<div>\n",
              "<style scoped>\n",
              "    .dataframe tbody tr th:only-of-type {\n",
              "        vertical-align: middle;\n",
              "    }\n",
              "\n",
              "    .dataframe tbody tr th {\n",
              "        vertical-align: top;\n",
              "    }\n",
              "\n",
              "    .dataframe thead th {\n",
              "        text-align: right;\n",
              "    }\n",
              "</style>\n",
              "<table border=\"1\" class=\"dataframe\">\n",
              "  <thead>\n",
              "    <tr style=\"text-align: right;\">\n",
              "      <th></th>\n",
              "      <th>Unnamed: 0</th>\n",
              "      <th>id</th>\n",
              "      <th>keywords</th>\n",
              "      <th>summary</th>\n",
              "    </tr>\n",
              "  </thead>\n",
              "  <tbody>\n",
              "    <tr>\n",
              "      <th>count</th>\n",
              "      <td>380702.000000</td>\n",
              "      <td>380702.000000</td>\n",
              "      <td>0.000000</td>\n",
              "      <td>0.000000</td>\n",
              "    </tr>\n",
              "    <tr>\n",
              "      <th>mean</th>\n",
              "      <td>98399.213668</td>\n",
              "      <td>2952517.809946</td>\n",
              "      <td>nan</td>\n",
              "      <td>nan</td>\n",
              "    </tr>\n",
              "    <tr>\n",
              "      <th>std</th>\n",
              "      <td>162208.755399</td>\n",
              "      <td>3499612.049310</td>\n",
              "      <td>nan</td>\n",
              "      <td>nan</td>\n",
              "    </tr>\n",
              "    <tr>\n",
              "      <th>min</th>\n",
              "      <td>0.000000</td>\n",
              "      <td>6.000000</td>\n",
              "      <td>nan</td>\n",
              "      <td>nan</td>\n",
              "    </tr>\n",
              "    <tr>\n",
              "      <th>25%</th>\n",
              "      <td>3381.000000</td>\n",
              "      <td>579150.750000</td>\n",
              "      <td>nan</td>\n",
              "      <td>nan</td>\n",
              "    </tr>\n",
              "    <tr>\n",
              "      <th>50%</th>\n",
              "      <td>6810.000000</td>\n",
              "      <td>1292870.500000</td>\n",
              "      <td>nan</td>\n",
              "      <td>nan</td>\n",
              "    </tr>\n",
              "    <tr>\n",
              "      <th>75%</th>\n",
              "      <td>147844.000000</td>\n",
              "      <td>3426839.000000</td>\n",
              "      <td>nan</td>\n",
              "      <td>nan</td>\n",
              "    </tr>\n",
              "    <tr>\n",
              "      <th>max</th>\n",
              "      <td>426549.000000</td>\n",
              "      <td>9878253.000000</td>\n",
              "      <td>nan</td>\n",
              "      <td>nan</td>\n",
              "    </tr>\n",
              "  </tbody>\n",
              "</table>\n",
              "</div>"
            ],
            "text/plain": [
              "         Unnamed: 0             id  keywords  summary\n",
              "count 380702.000000  380702.000000  0.000000 0.000000\n",
              "mean   98399.213668 2952517.809946       nan      nan\n",
              "std   162208.755399 3499612.049310       nan      nan\n",
              "min        0.000000       6.000000       nan      nan\n",
              "25%     3381.000000  579150.750000       nan      nan\n",
              "50%     6810.000000 1292870.500000       nan      nan\n",
              "75%   147844.000000 3426839.000000       nan      nan\n",
              "max   426549.000000 9878253.000000       nan      nan"
            ]
          },
          "metadata": {
            "tags": []
          },
          "execution_count": 7
        }
      ]
    },
    {
      "cell_type": "code",
      "metadata": {
        "colab": {
          "base_uri": "https://localhost:8080/"
        },
        "id": "fTqi36RRpiiV",
        "outputId": "8d25add4-420e-491f-e76b-92d0d840d446"
      },
      "source": [
        "text = df.dtypes[df.dtypes == \"object\"].index\n",
        "text"
      ],
      "execution_count": null,
      "outputs": [
        {
          "output_type": "execute_result",
          "data": {
            "text/plain": [
              "Index(['domain', 'type', 'url', 'content', 'scraped_at', 'inserted_at',\n",
              "       'updated_at', 'title', 'authors', 'meta_keywords', 'meta_description',\n",
              "       'tags', 'source'],\n",
              "      dtype='object')"
            ]
          },
          "metadata": {
            "tags": []
          },
          "execution_count": 8
        }
      ]
    },
    {
      "cell_type": "code",
      "metadata": {
        "colab": {
          "base_uri": "https://localhost:8080/",
          "height": 295
        },
        "id": "EQJQFPakpi5E",
        "outputId": "6962eb91-d371-45ea-b8e9-d1ab32a6fc06"
      },
      "source": [
        "df[text].describe()"
      ],
      "execution_count": null,
      "outputs": [
        {
          "output_type": "execute_result",
          "data": {
            "text/html": [
              "<div>\n",
              "<style scoped>\n",
              "    .dataframe tbody tr th:only-of-type {\n",
              "        vertical-align: middle;\n",
              "    }\n",
              "\n",
              "    .dataframe tbody tr th {\n",
              "        vertical-align: top;\n",
              "    }\n",
              "\n",
              "    .dataframe thead th {\n",
              "        text-align: right;\n",
              "    }\n",
              "</style>\n",
              "<table border=\"1\" class=\"dataframe\">\n",
              "  <thead>\n",
              "    <tr style=\"text-align: right;\">\n",
              "      <th></th>\n",
              "      <th>domain</th>\n",
              "      <th>type</th>\n",
              "      <th>url</th>\n",
              "      <th>content</th>\n",
              "      <th>scraped_at</th>\n",
              "      <th>inserted_at</th>\n",
              "      <th>updated_at</th>\n",
              "      <th>title</th>\n",
              "      <th>authors</th>\n",
              "      <th>meta_keywords</th>\n",
              "      <th>meta_description</th>\n",
              "      <th>tags</th>\n",
              "      <th>source</th>\n",
              "    </tr>\n",
              "  </thead>\n",
              "  <tbody>\n",
              "    <tr>\n",
              "      <th>count</th>\n",
              "      <td>380702</td>\n",
              "      <td>380702</td>\n",
              "      <td>380702</td>\n",
              "      <td>380702</td>\n",
              "      <td>380702</td>\n",
              "      <td>380702</td>\n",
              "      <td>380702</td>\n",
              "      <td>380660</td>\n",
              "      <td>271698</td>\n",
              "      <td>363570</td>\n",
              "      <td>129036</td>\n",
              "      <td>106795</td>\n",
              "      <td>94370</td>\n",
              "    </tr>\n",
              "    <tr>\n",
              "      <th>unique</th>\n",
              "      <td>176</td>\n",
              "      <td>5</td>\n",
              "      <td>379683</td>\n",
              "      <td>338963</td>\n",
              "      <td>94383</td>\n",
              "      <td>5</td>\n",
              "      <td>5</td>\n",
              "      <td>354925</td>\n",
              "      <td>33991</td>\n",
              "      <td>80959</td>\n",
              "      <td>121464</td>\n",
              "      <td>44621</td>\n",
              "      <td>2</td>\n",
              "    </tr>\n",
              "    <tr>\n",
              "      <th>top</th>\n",
              "      <td>beforeitsnews.com</td>\n",
              "      <td>fake</td>\n",
              "      <td>https://www.amren.com/news/2013/02/a-genetic-c...</td>\n",
              "      <td>This website uses profiling (non technical) co...</td>\n",
              "      <td>2018-01-25 20:13:50.426130</td>\n",
              "      <td>2018-02-02 01:19:41.756632</td>\n",
              "      <td>2018-02-02 01:19:41.756664</td>\n",
              "      <td>portal.liberalamerica.org</td>\n",
              "      <td>Sinclair Jenkins, Chris Roberts, Guillaume Dur...</td>\n",
              "      <td>['']</td>\n",
              "      <td>America’s Finest News Source</td>\n",
              "      <td>4062 followers Duggar Family, 3756 followers S...</td>\n",
              "      <td>nytimes</td>\n",
              "    </tr>\n",
              "    <tr>\n",
              "      <th>freq</th>\n",
              "      <td>161169</td>\n",
              "      <td>168409</td>\n",
              "      <td>2</td>\n",
              "      <td>6593</td>\n",
              "      <td>146282</td>\n",
              "      <td>164003</td>\n",
              "      <td>164003</td>\n",
              "      <td>2600</td>\n",
              "      <td>25954</td>\n",
              "      <td>272482</td>\n",
              "      <td>3069</td>\n",
              "      <td>6019</td>\n",
              "      <td>77238</td>\n",
              "    </tr>\n",
              "  </tbody>\n",
              "</table>\n",
              "</div>"
            ],
            "text/plain": [
              "                   domain  ...   source\n",
              "count              380702  ...    94370\n",
              "unique                176  ...        2\n",
              "top     beforeitsnews.com  ...  nytimes\n",
              "freq               161169  ...    77238\n",
              "\n",
              "[4 rows x 13 columns]"
            ]
          },
          "metadata": {
            "tags": []
          },
          "execution_count": 9
        }
      ]
    },
    {
      "cell_type": "code",
      "metadata": {
        "colab": {
          "base_uri": "https://localhost:8080/"
        },
        "id": "gA1v4MvHsh2T",
        "outputId": "b0f766cd-82c2-4a72-bc60-d39bf5edae59"
      },
      "source": [
        "df.type.value_counts()"
      ],
      "execution_count": null,
      "outputs": [
        {
          "output_type": "execute_result",
          "data": {
            "text/plain": [
              "fake         168409\n",
              "reliable      96024\n",
              "hate          46078\n",
              "satire        43443\n",
              "clickbait     26748\n",
              "Name: type, dtype: int64"
            ]
          },
          "metadata": {
            "tags": []
          },
          "execution_count": 10
        }
      ]
    },
    {
      "cell_type": "code",
      "metadata": {
        "colab": {
          "base_uri": "https://localhost:8080/"
        },
        "id": "erdzStZ5t2PO",
        "outputId": "68e3a9ac-3209-4df7-80a5-733abe06ca2d"
      },
      "source": [
        "df.columns"
      ],
      "execution_count": null,
      "outputs": [
        {
          "output_type": "execute_result",
          "data": {
            "text/plain": [
              "Index(['Unnamed: 0', 'id', 'domain', 'type', 'url', 'content', 'scraped_at',\n",
              "       'inserted_at', 'updated_at', 'title', 'authors', 'keywords',\n",
              "       'meta_keywords', 'meta_description', 'tags', 'summary', 'source'],\n",
              "      dtype='object')"
            ]
          },
          "metadata": {
            "tags": []
          },
          "execution_count": 11
        }
      ]
    },
    {
      "cell_type": "markdown",
      "metadata": {
        "id": "RGcgCIPInl6e"
      },
      "source": [
        "#**Cleaning Dataset**"
      ]
    },
    {
      "cell_type": "code",
      "metadata": {
        "id": "vni0zq_UuA-K"
      },
      "source": [
        "df = df.drop(['Unnamed: 0', 'id', 'keywords', 'summary','meta_keywords', 'meta_description','tags', 'source'], axis=1)"
      ],
      "execution_count": null,
      "outputs": []
    },
    {
      "cell_type": "code",
      "metadata": {
        "colab": {
          "base_uri": "https://localhost:8080/",
          "height": 564
        },
        "id": "vfhE6pd3m9Qi",
        "outputId": "689cb66b-e5e8-4869-c866-32558ac0157d"
      },
      "source": [
        "df.head()"
      ],
      "execution_count": null,
      "outputs": [
        {
          "output_type": "execute_result",
          "data": {
            "text/html": [
              "<div>\n",
              "<style scoped>\n",
              "    .dataframe tbody tr th:only-of-type {\n",
              "        vertical-align: middle;\n",
              "    }\n",
              "\n",
              "    .dataframe tbody tr th {\n",
              "        vertical-align: top;\n",
              "    }\n",
              "\n",
              "    .dataframe thead th {\n",
              "        text-align: right;\n",
              "    }\n",
              "</style>\n",
              "<table border=\"1\" class=\"dataframe\">\n",
              "  <thead>\n",
              "    <tr style=\"text-align: right;\">\n",
              "      <th></th>\n",
              "      <th>domain</th>\n",
              "      <th>type</th>\n",
              "      <th>url</th>\n",
              "      <th>content</th>\n",
              "      <th>scraped_at</th>\n",
              "      <th>inserted_at</th>\n",
              "      <th>updated_at</th>\n",
              "      <th>title</th>\n",
              "      <th>authors</th>\n",
              "    </tr>\n",
              "  </thead>\n",
              "  <tbody>\n",
              "    <tr>\n",
              "      <th>0</th>\n",
              "      <td>beforeitsnews.com</td>\n",
              "      <td>fake</td>\n",
              "      <td>http://beforeitsnews.com/opinion-conservative/...</td>\n",
              "      <td>Headline: Bitcoin &amp; Blockchain Searches Exceed...</td>\n",
              "      <td>2018-01-25 16:17:44.789555</td>\n",
              "      <td>2018-02-02 01:19:41.756632</td>\n",
              "      <td>2018-02-02 01:19:41.756664</td>\n",
              "      <td>Surprise: Socialist Hotbed Of Venezuela Has Lo...</td>\n",
              "      <td>The Pirate'S Cove</td>\n",
              "    </tr>\n",
              "    <tr>\n",
              "      <th>1</th>\n",
              "      <td>beforeitsnews.com</td>\n",
              "      <td>fake</td>\n",
              "      <td>http://beforeitsnews.com/politics/2018/01/wate...</td>\n",
              "      <td>Water Cooler 1/25/18 Open Thread; Fake News ? ...</td>\n",
              "      <td>2018-01-25 16:17:44.789555</td>\n",
              "      <td>2018-02-02 01:19:41.756632</td>\n",
              "      <td>2018-02-02 01:19:41.756664</td>\n",
              "      <td>Water Cooler 1/25/18 Open Thread; Fake News ? ...</td>\n",
              "      <td>NaN</td>\n",
              "    </tr>\n",
              "    <tr>\n",
              "      <th>2</th>\n",
              "      <td>beforeitsnews.com</td>\n",
              "      <td>fake</td>\n",
              "      <td>http://beforeitsnews.com/politics/2018/01/vete...</td>\n",
              "      <td>Veteran Commentator Calls Out the Growing “Eth...</td>\n",
              "      <td>2018-01-25 16:17:44.789555</td>\n",
              "      <td>2018-02-02 01:19:41.756632</td>\n",
              "      <td>2018-02-02 01:19:41.756664</td>\n",
              "      <td>Veteran Commentator Calls Out the Growing “Eth...</td>\n",
              "      <td>NaN</td>\n",
              "    </tr>\n",
              "    <tr>\n",
              "      <th>3</th>\n",
              "      <td>beforeitsnews.com</td>\n",
              "      <td>fake</td>\n",
              "      <td>http://beforeitsnews.com/arts/2018/01/lost-wor...</td>\n",
              "      <td>Lost Words, Hidden Words, Otters, Banks and Bo...</td>\n",
              "      <td>2018-01-25 16:17:44.789555</td>\n",
              "      <td>2018-02-02 01:19:41.756632</td>\n",
              "      <td>2018-02-02 01:19:41.756664</td>\n",
              "      <td>Lost Words, Hidden Words, Otters, Banks and Books</td>\n",
              "      <td>Jackie Morris Artist</td>\n",
              "    </tr>\n",
              "    <tr>\n",
              "      <th>4</th>\n",
              "      <td>beforeitsnews.com</td>\n",
              "      <td>fake</td>\n",
              "      <td>http://beforeitsnews.com/financial-markets/201...</td>\n",
              "      <td>Red Alert: Bond Yields Are SCREAMING “Inflatio...</td>\n",
              "      <td>2018-01-25 16:17:44.789555</td>\n",
              "      <td>2018-02-02 01:19:41.756632</td>\n",
              "      <td>2018-02-02 01:19:41.756664</td>\n",
              "      <td>Red Alert: Bond Yields Are SCREAMING “Inflatio...</td>\n",
              "      <td>Phoenix Capital Research</td>\n",
              "    </tr>\n",
              "  </tbody>\n",
              "</table>\n",
              "</div>"
            ],
            "text/plain": [
              "              domain  ...                   authors\n",
              "0  beforeitsnews.com  ...         The Pirate'S Cove\n",
              "1  beforeitsnews.com  ...                       NaN\n",
              "2  beforeitsnews.com  ...                       NaN\n",
              "3  beforeitsnews.com  ...      Jackie Morris Artist\n",
              "4  beforeitsnews.com  ...  Phoenix Capital Research\n",
              "\n",
              "[5 rows x 9 columns]"
            ]
          },
          "metadata": {
            "tags": []
          },
          "execution_count": 13
        }
      ]
    },
    {
      "cell_type": "code",
      "metadata": {
        "id": "5CUGdyQseXRE"
      },
      "source": [
        "df = df[df['authors'].notna()]"
      ],
      "execution_count": null,
      "outputs": []
    },
    {
      "cell_type": "code",
      "metadata": {
        "id": "n2-VFkH1WNfN"
      },
      "source": [
        "df = df[df['title'].notna()]"
      ],
      "execution_count": null,
      "outputs": []
    },
    {
      "cell_type": "code",
      "metadata": {
        "colab": {
          "base_uri": "https://localhost:8080/",
          "height": 295
        },
        "id": "WxbPBytTccV-",
        "outputId": "5f395c44-0b2a-4482-e758-1230dec52762"
      },
      "source": [
        "text = df.dtypes[df.dtypes == \"object\"].index\n",
        "text\n",
        "df[text].describe()"
      ],
      "execution_count": null,
      "outputs": [
        {
          "output_type": "execute_result",
          "data": {
            "text/html": [
              "<div>\n",
              "<style scoped>\n",
              "    .dataframe tbody tr th:only-of-type {\n",
              "        vertical-align: middle;\n",
              "    }\n",
              "\n",
              "    .dataframe tbody tr th {\n",
              "        vertical-align: top;\n",
              "    }\n",
              "\n",
              "    .dataframe thead th {\n",
              "        text-align: right;\n",
              "    }\n",
              "</style>\n",
              "<table border=\"1\" class=\"dataframe\">\n",
              "  <thead>\n",
              "    <tr style=\"text-align: right;\">\n",
              "      <th></th>\n",
              "      <th>domain</th>\n",
              "      <th>type</th>\n",
              "      <th>url</th>\n",
              "      <th>content</th>\n",
              "      <th>scraped_at</th>\n",
              "      <th>inserted_at</th>\n",
              "      <th>updated_at</th>\n",
              "      <th>title</th>\n",
              "      <th>authors</th>\n",
              "    </tr>\n",
              "  </thead>\n",
              "  <tbody>\n",
              "    <tr>\n",
              "      <th>count</th>\n",
              "      <td>271697</td>\n",
              "      <td>271697</td>\n",
              "      <td>271697</td>\n",
              "      <td>271697</td>\n",
              "      <td>271697</td>\n",
              "      <td>271697</td>\n",
              "      <td>271697</td>\n",
              "      <td>271697</td>\n",
              "      <td>271697</td>\n",
              "    </tr>\n",
              "    <tr>\n",
              "      <th>unique</th>\n",
              "      <td>131</td>\n",
              "      <td>5</td>\n",
              "      <td>270690</td>\n",
              "      <td>242588</td>\n",
              "      <td>59455</td>\n",
              "      <td>5</td>\n",
              "      <td>5</td>\n",
              "      <td>260298</td>\n",
              "      <td>33991</td>\n",
              "    </tr>\n",
              "    <tr>\n",
              "      <th>top</th>\n",
              "      <td>beforeitsnews.com</td>\n",
              "      <td>fake</td>\n",
              "      <td>https://www.amren.com/news/2013/07/managed-mea...</td>\n",
              "      <td>This website uses profiling (non technical) co...</td>\n",
              "      <td>2018-01-25 20:13:50.426130</td>\n",
              "      <td>2018-02-02 01:19:41.756632</td>\n",
              "      <td>2018-02-02 01:19:41.756664</td>\n",
              "      <td>American Renaissance</td>\n",
              "      <td>Sinclair Jenkins, Chris Roberts, Guillaume Dur...</td>\n",
              "    </tr>\n",
              "    <tr>\n",
              "      <th>freq</th>\n",
              "      <td>110473</td>\n",
              "      <td>111497</td>\n",
              "      <td>2</td>\n",
              "      <td>6593</td>\n",
              "      <td>100869</td>\n",
              "      <td>112896</td>\n",
              "      <td>112896</td>\n",
              "      <td>699</td>\n",
              "      <td>25954</td>\n",
              "    </tr>\n",
              "  </tbody>\n",
              "</table>\n",
              "</div>"
            ],
            "text/plain": [
              "                   domain  ...                                            authors\n",
              "count              271697  ...                                             271697\n",
              "unique                131  ...                                              33991\n",
              "top     beforeitsnews.com  ...  Sinclair Jenkins, Chris Roberts, Guillaume Dur...\n",
              "freq               110473  ...                                              25954\n",
              "\n",
              "[4 rows x 9 columns]"
            ]
          },
          "metadata": {
            "tags": []
          },
          "execution_count": 16
        }
      ]
    },
    {
      "cell_type": "code",
      "metadata": {
        "id": "3Lz_l32wZsvE"
      },
      "source": [
        "STOPWORDS = set(stopwords.words('english'))\n",
        "\n",
        "def clean_text(text):\n",
        "    text = text.lower() # lowercase text\n",
        "    text = re.sub('[^a-zA-Z]',' ', text)\n",
        "    text = ' '.join(word for word in text.split() if word not in STOPWORDS) # remove stopwors from text\n",
        "    return text"
      ],
      "execution_count": null,
      "outputs": []
    },
    {
      "cell_type": "code",
      "metadata": {
        "colab": {
          "base_uri": "https://localhost:8080/",
          "height": 683
        },
        "id": "NLc5suPMZ2Zm",
        "outputId": "eb6cf427-43f0-4aac-c3da-948fe1b6900b"
      },
      "source": [
        "df['clean'] = df['content'].apply(clean_text)\n",
        "df.head()"
      ],
      "execution_count": null,
      "outputs": [
        {
          "output_type": "execute_result",
          "data": {
            "text/html": [
              "<div>\n",
              "<style scoped>\n",
              "    .dataframe tbody tr th:only-of-type {\n",
              "        vertical-align: middle;\n",
              "    }\n",
              "\n",
              "    .dataframe tbody tr th {\n",
              "        vertical-align: top;\n",
              "    }\n",
              "\n",
              "    .dataframe thead th {\n",
              "        text-align: right;\n",
              "    }\n",
              "</style>\n",
              "<table border=\"1\" class=\"dataframe\">\n",
              "  <thead>\n",
              "    <tr style=\"text-align: right;\">\n",
              "      <th></th>\n",
              "      <th>domain</th>\n",
              "      <th>type</th>\n",
              "      <th>url</th>\n",
              "      <th>content</th>\n",
              "      <th>scraped_at</th>\n",
              "      <th>inserted_at</th>\n",
              "      <th>updated_at</th>\n",
              "      <th>title</th>\n",
              "      <th>authors</th>\n",
              "      <th>clean</th>\n",
              "    </tr>\n",
              "  </thead>\n",
              "  <tbody>\n",
              "    <tr>\n",
              "      <th>0</th>\n",
              "      <td>beforeitsnews.com</td>\n",
              "      <td>fake</td>\n",
              "      <td>http://beforeitsnews.com/opinion-conservative/...</td>\n",
              "      <td>Headline: Bitcoin &amp; Blockchain Searches Exceed...</td>\n",
              "      <td>2018-01-25 16:17:44.789555</td>\n",
              "      <td>2018-02-02 01:19:41.756632</td>\n",
              "      <td>2018-02-02 01:19:41.756664</td>\n",
              "      <td>Surprise: Socialist Hotbed Of Venezuela Has Lo...</td>\n",
              "      <td>The Pirate'S Cove</td>\n",
              "      <td>headline bitcoin blockchain searches exceed tr...</td>\n",
              "    </tr>\n",
              "    <tr>\n",
              "      <th>3</th>\n",
              "      <td>beforeitsnews.com</td>\n",
              "      <td>fake</td>\n",
              "      <td>http://beforeitsnews.com/arts/2018/01/lost-wor...</td>\n",
              "      <td>Lost Words, Hidden Words, Otters, Banks and Bo...</td>\n",
              "      <td>2018-01-25 16:17:44.789555</td>\n",
              "      <td>2018-02-02 01:19:41.756632</td>\n",
              "      <td>2018-02-02 01:19:41.756664</td>\n",
              "      <td>Lost Words, Hidden Words, Otters, Banks and Books</td>\n",
              "      <td>Jackie Morris Artist</td>\n",
              "      <td>lost words hidden words otters banks books rea...</td>\n",
              "    </tr>\n",
              "    <tr>\n",
              "      <th>4</th>\n",
              "      <td>beforeitsnews.com</td>\n",
              "      <td>fake</td>\n",
              "      <td>http://beforeitsnews.com/financial-markets/201...</td>\n",
              "      <td>Red Alert: Bond Yields Are SCREAMING “Inflatio...</td>\n",
              "      <td>2018-01-25 16:17:44.789555</td>\n",
              "      <td>2018-02-02 01:19:41.756632</td>\n",
              "      <td>2018-02-02 01:19:41.756664</td>\n",
              "      <td>Red Alert: Bond Yields Are SCREAMING “Inflatio...</td>\n",
              "      <td>Phoenix Capital Research</td>\n",
              "      <td>red alert bond yields screaming inflation comi...</td>\n",
              "    </tr>\n",
              "    <tr>\n",
              "      <th>5</th>\n",
              "      <td>beforeitsnews.com</td>\n",
              "      <td>fake</td>\n",
              "      <td>http://beforeitsnews.com/environment/2018/01/s...</td>\n",
              "      <td>Scientists move Doomsday Clock ahead by 30 sec...</td>\n",
              "      <td>2018-01-25 16:17:44.789555</td>\n",
              "      <td>2018-02-02 01:19:41.756632</td>\n",
              "      <td>2018-02-02 01:19:41.756664</td>\n",
              "      <td>Scientists move Doomsday Clock ahead by 30 sec...</td>\n",
              "      <td>Desdemona Despair</td>\n",
              "      <td>scientists move doomsday clock ahead seconds c...</td>\n",
              "    </tr>\n",
              "    <tr>\n",
              "      <th>8</th>\n",
              "      <td>coed.com</td>\n",
              "      <td>fake</td>\n",
              "      <td>https://coed.com/2018/01/22/college-basketball...</td>\n",
              "      <td>Every college basketball fan knows all too wel...</td>\n",
              "      <td>2018-01-25 16:17:44.789555</td>\n",
              "      <td>2018-02-02 01:19:41.756632</td>\n",
              "      <td>2018-02-02 01:19:41.756664</td>\n",
              "      <td>College Basketball Rankings, Week 12: Top 25 P...</td>\n",
              "      <td>Avid Sports Fan, Writer. Huge Fan Of The Oriol...</td>\n",
              "      <td>every college basketball fan knows well preval...</td>\n",
              "    </tr>\n",
              "  </tbody>\n",
              "</table>\n",
              "</div>"
            ],
            "text/plain": [
              "              domain  ...                                              clean\n",
              "0  beforeitsnews.com  ...  headline bitcoin blockchain searches exceed tr...\n",
              "3  beforeitsnews.com  ...  lost words hidden words otters banks books rea...\n",
              "4  beforeitsnews.com  ...  red alert bond yields screaming inflation comi...\n",
              "5  beforeitsnews.com  ...  scientists move doomsday clock ahead seconds c...\n",
              "8           coed.com  ...  every college basketball fan knows well preval...\n",
              "\n",
              "[5 rows x 10 columns]"
            ]
          },
          "metadata": {
            "tags": []
          },
          "execution_count": 18
        }
      ]
    },
    {
      "cell_type": "code",
      "metadata": {
        "id": "nnsdlB-9cIfL"
      },
      "source": [
        "df['word'] = df['clean'].apply(lambda x: len((x).split()))"
      ],
      "execution_count": null,
      "outputs": []
    },
    {
      "cell_type": "code",
      "metadata": {
        "id": "guEU82CbNGxu"
      },
      "source": [
        "df = df[df['word'] >= 1]\n",
        "df = df.reset_index(drop=True)"
      ],
      "execution_count": null,
      "outputs": []
    },
    {
      "cell_type": "markdown",
      "metadata": {
        "id": "qRzpsA7tAagV"
      },
      "source": [
        "#**Cluster Analysis Using K-means**"
      ]
    },
    {
      "cell_type": "markdown",
      "metadata": {
        "id": "zWefqVkMUD_C"
      },
      "source": [
        "Word frequency of each Type (Sentiment) "
      ]
    },
    {
      "cell_type": "code",
      "metadata": {
        "colab": {
          "base_uri": "https://localhost:8080/",
          "height": 204
        },
        "id": "bqqEWI9aOjZB",
        "outputId": "7a91ade0-28e2-40e3-b9c3-6bf7b8589d53"
      },
      "source": [
        "sentiment = df.groupby('type')['word'].describe().reset_index()\n",
        "sentiment"
      ],
      "execution_count": null,
      "outputs": [
        {
          "output_type": "execute_result",
          "data": {
            "text/html": [
              "<div>\n",
              "<style scoped>\n",
              "    .dataframe tbody tr th:only-of-type {\n",
              "        vertical-align: middle;\n",
              "    }\n",
              "\n",
              "    .dataframe tbody tr th {\n",
              "        vertical-align: top;\n",
              "    }\n",
              "\n",
              "    .dataframe thead th {\n",
              "        text-align: right;\n",
              "    }\n",
              "</style>\n",
              "<table border=\"1\" class=\"dataframe\">\n",
              "  <thead>\n",
              "    <tr style=\"text-align: right;\">\n",
              "      <th></th>\n",
              "      <th>type</th>\n",
              "      <th>count</th>\n",
              "      <th>mean</th>\n",
              "      <th>std</th>\n",
              "      <th>min</th>\n",
              "      <th>25%</th>\n",
              "      <th>50%</th>\n",
              "      <th>75%</th>\n",
              "      <th>max</th>\n",
              "    </tr>\n",
              "  </thead>\n",
              "  <tbody>\n",
              "    <tr>\n",
              "      <th>0</th>\n",
              "      <td>clickbait</td>\n",
              "      <td>16142.000000</td>\n",
              "      <td>267.827717</td>\n",
              "      <td>253.651003</td>\n",
              "      <td>3.000000</td>\n",
              "      <td>131.000000</td>\n",
              "      <td>234.000000</td>\n",
              "      <td>359.000000</td>\n",
              "      <td>9508.000000</td>\n",
              "    </tr>\n",
              "    <tr>\n",
              "      <th>1</th>\n",
              "      <td>fake</td>\n",
              "      <td>111497.000000</td>\n",
              "      <td>282.473179</td>\n",
              "      <td>371.732984</td>\n",
              "      <td>4.000000</td>\n",
              "      <td>78.000000</td>\n",
              "      <td>182.000000</td>\n",
              "      <td>365.000000</td>\n",
              "      <td>13843.000000</td>\n",
              "    </tr>\n",
              "    <tr>\n",
              "      <th>2</th>\n",
              "      <td>hate</td>\n",
              "      <td>43416.000000</td>\n",
              "      <td>381.366547</td>\n",
              "      <td>772.826185</td>\n",
              "      <td>1.000000</td>\n",
              "      <td>137.000000</td>\n",
              "      <td>227.000000</td>\n",
              "      <td>366.000000</td>\n",
              "      <td>9209.000000</td>\n",
              "    </tr>\n",
              "    <tr>\n",
              "      <th>3</th>\n",
              "      <td>reliable</td>\n",
              "      <td>59785.000000</td>\n",
              "      <td>356.201254</td>\n",
              "      <td>332.084238</td>\n",
              "      <td>3.000000</td>\n",
              "      <td>152.000000</td>\n",
              "      <td>307.000000</td>\n",
              "      <td>473.000000</td>\n",
              "      <td>16788.000000</td>\n",
              "    </tr>\n",
              "    <tr>\n",
              "      <th>4</th>\n",
              "      <td>satire</td>\n",
              "      <td>40857.000000</td>\n",
              "      <td>136.402306</td>\n",
              "      <td>148.479234</td>\n",
              "      <td>3.000000</td>\n",
              "      <td>18.000000</td>\n",
              "      <td>52.000000</td>\n",
              "      <td>241.000000</td>\n",
              "      <td>9519.000000</td>\n",
              "    </tr>\n",
              "  </tbody>\n",
              "</table>\n",
              "</div>"
            ],
            "text/plain": [
              "        type         count       mean  ...        50%        75%          max\n",
              "0  clickbait  16142.000000 267.827717  ... 234.000000 359.000000  9508.000000\n",
              "1       fake 111497.000000 282.473179  ... 182.000000 365.000000 13843.000000\n",
              "2       hate  43416.000000 381.366547  ... 227.000000 366.000000  9209.000000\n",
              "3   reliable  59785.000000 356.201254  ... 307.000000 473.000000 16788.000000\n",
              "4     satire  40857.000000 136.402306  ...  52.000000 241.000000  9519.000000\n",
              "\n",
              "[5 rows x 9 columns]"
            ]
          },
          "metadata": {
            "tags": []
          },
          "execution_count": 21
        }
      ]
    },
    {
      "cell_type": "code",
      "metadata": {
        "id": "htTzw7SRAFkC"
      },
      "source": [
        "trainVec = TfidfVectorizer()\n",
        "trainMatrix = trainVec.fit_transform(df['clean'])"
      ],
      "execution_count": null,
      "outputs": []
    },
    {
      "cell_type": "code",
      "metadata": {
        "id": "Ev6DVtimSmDZ"
      },
      "source": [
        "kmeans_model = MiniBatchKMeans(n_clusters=5, init='k-means++', n_init=1, init_size=1000, batch_size=1000, verbose=False, max_iter=1000)\n",
        "kmeans = kmeans_model.fit(trainMatrix)\n",
        "kmeans_clusters = kmeans.predict(trainMatrix)\n",
        "kmeans_distances = kmeans.transform(trainMatrix)\n",
        "sorted_centroids = kmeans.cluster_centers_.argsort()[:, ::-1]\n",
        "terms = trainVec.get_feature_names()\n",
        "df['cluster'] = list(kmeans.labels_)"
      ],
      "execution_count": null,
      "outputs": []
    },
    {
      "cell_type": "code",
      "metadata": {
        "colab": {
          "base_uri": "https://localhost:8080/"
        },
        "id": "7e7ZKZ-oTM2Y",
        "outputId": "022b7dc0-a055-47a5-bfee-a8f62fc43efc"
      },
      "source": [
        "for i in range(5):\n",
        "    print(\"Cluster %d:\" % i)\n",
        "    for j in sorted_centroids[i, :10]:\n",
        "        print(' %s' % terms[j])\n",
        "    print()"
      ],
      "execution_count": null,
      "outputs": [
        {
          "output_type": "stream",
          "text": [
            "Cluster 0:\n",
            " cookies\n",
            " use\n",
            " accessing\n",
            " navigation\n",
            " profiling\n",
            " banner\n",
            " preferences\n",
            " consent\n",
            " element\n",
            " user\n",
            "\n",
            "Cluster 1:\n",
            " conspiracy\n",
            " blow\n",
            " proved\n",
            " congressional\n",
            " away\n",
            " hearing\n",
            " major\n",
            " fact\n",
            " event\n",
            " megadisaster\n",
            "\n",
            "Cluster 2:\n",
            " percent\n",
            " market\n",
            " snip\n",
            " students\n",
            " said\n",
            " year\n",
            " school\n",
            " people\n",
            " million\n",
            " report\n",
            "\n",
            "Cluster 3:\n",
            " said\n",
            " mr\n",
            " new\n",
            " snip\n",
            " police\n",
            " please\n",
            " york\n",
            " would\n",
            " people\n",
            " main\n",
            "\n",
            "Cluster 4:\n",
            " blockchain\n",
            " us\n",
            " trump\n",
            " one\n",
            " com\n",
            " next\n",
            " new\n",
            " source\n",
            " day\n",
            " two\n",
            "\n"
          ],
          "name": "stdout"
        }
      ]
    },
    {
      "cell_type": "code",
      "metadata": {
        "colab": {
          "base_uri": "https://localhost:8080/",
          "height": 576
        },
        "id": "tIKm0QAdPAxN",
        "outputId": "f86fab51-e8fb-43d3-caa3-cf2b9f0a7a47"
      },
      "source": [
        "cluster = df.groupby(['type','cluster'])['word'].describe().reset_index()\n",
        "cluster"
      ],
      "execution_count": null,
      "outputs": [
        {
          "output_type": "execute_result",
          "data": {
            "text/html": [
              "<div>\n",
              "<style scoped>\n",
              "    .dataframe tbody tr th:only-of-type {\n",
              "        vertical-align: middle;\n",
              "    }\n",
              "\n",
              "    .dataframe tbody tr th {\n",
              "        vertical-align: top;\n",
              "    }\n",
              "\n",
              "    .dataframe thead th {\n",
              "        text-align: right;\n",
              "    }\n",
              "</style>\n",
              "<table border=\"1\" class=\"dataframe\">\n",
              "  <thead>\n",
              "    <tr style=\"text-align: right;\">\n",
              "      <th></th>\n",
              "      <th>type</th>\n",
              "      <th>cluster</th>\n",
              "      <th>count</th>\n",
              "      <th>mean</th>\n",
              "      <th>std</th>\n",
              "      <th>min</th>\n",
              "      <th>25%</th>\n",
              "      <th>50%</th>\n",
              "      <th>75%</th>\n",
              "      <th>max</th>\n",
              "    </tr>\n",
              "  </thead>\n",
              "  <tbody>\n",
              "    <tr>\n",
              "      <th>0</th>\n",
              "      <td>clickbait</td>\n",
              "      <td>2</td>\n",
              "      <td>1405.000000</td>\n",
              "      <td>405.394306</td>\n",
              "      <td>326.735436</td>\n",
              "      <td>9.000000</td>\n",
              "      <td>241.000000</td>\n",
              "      <td>340.000000</td>\n",
              "      <td>472.000000</td>\n",
              "      <td>6824.000000</td>\n",
              "    </tr>\n",
              "    <tr>\n",
              "      <th>1</th>\n",
              "      <td>clickbait</td>\n",
              "      <td>3</td>\n",
              "      <td>1416.000000</td>\n",
              "      <td>384.620056</td>\n",
              "      <td>402.870513</td>\n",
              "      <td>6.000000</td>\n",
              "      <td>236.000000</td>\n",
              "      <td>320.000000</td>\n",
              "      <td>449.000000</td>\n",
              "      <td>9508.000000</td>\n",
              "    </tr>\n",
              "    <tr>\n",
              "      <th>2</th>\n",
              "      <td>clickbait</td>\n",
              "      <td>4</td>\n",
              "      <td>13321.000000</td>\n",
              "      <td>240.903386</td>\n",
              "      <td>212.836196</td>\n",
              "      <td>3.000000</td>\n",
              "      <td>99.000000</td>\n",
              "      <td>213.000000</td>\n",
              "      <td>332.000000</td>\n",
              "      <td>4643.000000</td>\n",
              "    </tr>\n",
              "    <tr>\n",
              "      <th>3</th>\n",
              "      <td>fake</td>\n",
              "      <td>1</td>\n",
              "      <td>2915.000000</td>\n",
              "      <td>24.510463</td>\n",
              "      <td>20.241375</td>\n",
              "      <td>8.000000</td>\n",
              "      <td>8.000000</td>\n",
              "      <td>8.000000</td>\n",
              "      <td>48.000000</td>\n",
              "      <td>102.000000</td>\n",
              "    </tr>\n",
              "    <tr>\n",
              "      <th>4</th>\n",
              "      <td>fake</td>\n",
              "      <td>2</td>\n",
              "      <td>18412.000000</td>\n",
              "      <td>486.271942</td>\n",
              "      <td>497.662151</td>\n",
              "      <td>7.000000</td>\n",
              "      <td>228.000000</td>\n",
              "      <td>377.500000</td>\n",
              "      <td>586.000000</td>\n",
              "      <td>9484.000000</td>\n",
              "    </tr>\n",
              "    <tr>\n",
              "      <th>5</th>\n",
              "      <td>fake</td>\n",
              "      <td>3</td>\n",
              "      <td>3308.000000</td>\n",
              "      <td>512.105502</td>\n",
              "      <td>680.604113</td>\n",
              "      <td>34.000000</td>\n",
              "      <td>75.750000</td>\n",
              "      <td>353.000000</td>\n",
              "      <td>621.250000</td>\n",
              "      <td>7971.000000</td>\n",
              "    </tr>\n",
              "    <tr>\n",
              "      <th>6</th>\n",
              "      <td>fake</td>\n",
              "      <td>4</td>\n",
              "      <td>86862.000000</td>\n",
              "      <td>239.186065</td>\n",
              "      <td>303.829578</td>\n",
              "      <td>4.000000</td>\n",
              "      <td>74.000000</td>\n",
              "      <td>155.000000</td>\n",
              "      <td>307.000000</td>\n",
              "      <td>13843.000000</td>\n",
              "    </tr>\n",
              "    <tr>\n",
              "      <th>7</th>\n",
              "      <td>hate</td>\n",
              "      <td>2</td>\n",
              "      <td>12770.000000</td>\n",
              "      <td>456.483712</td>\n",
              "      <td>850.784136</td>\n",
              "      <td>3.000000</td>\n",
              "      <td>171.000000</td>\n",
              "      <td>261.000000</td>\n",
              "      <td>413.000000</td>\n",
              "      <td>9158.000000</td>\n",
              "    </tr>\n",
              "    <tr>\n",
              "      <th>8</th>\n",
              "      <td>hate</td>\n",
              "      <td>3</td>\n",
              "      <td>19690.000000</td>\n",
              "      <td>419.094870</td>\n",
              "      <td>883.454547</td>\n",
              "      <td>5.000000</td>\n",
              "      <td>157.000000</td>\n",
              "      <td>240.000000</td>\n",
              "      <td>372.000000</td>\n",
              "      <td>9209.000000</td>\n",
              "    </tr>\n",
              "    <tr>\n",
              "      <th>9</th>\n",
              "      <td>hate</td>\n",
              "      <td>4</td>\n",
              "      <td>10956.000000</td>\n",
              "      <td>226.007211</td>\n",
              "      <td>295.376826</td>\n",
              "      <td>1.000000</td>\n",
              "      <td>58.000000</td>\n",
              "      <td>145.000000</td>\n",
              "      <td>281.000000</td>\n",
              "      <td>6552.000000</td>\n",
              "    </tr>\n",
              "    <tr>\n",
              "      <th>10</th>\n",
              "      <td>reliable</td>\n",
              "      <td>2</td>\n",
              "      <td>4962.000000</td>\n",
              "      <td>330.959492</td>\n",
              "      <td>329.722340</td>\n",
              "      <td>12.000000</td>\n",
              "      <td>126.250000</td>\n",
              "      <td>239.000000</td>\n",
              "      <td>450.000000</td>\n",
              "      <td>5062.000000</td>\n",
              "    </tr>\n",
              "    <tr>\n",
              "      <th>11</th>\n",
              "      <td>reliable</td>\n",
              "      <td>3</td>\n",
              "      <td>34821.000000</td>\n",
              "      <td>437.792395</td>\n",
              "      <td>327.977196</td>\n",
              "      <td>20.000000</td>\n",
              "      <td>267.000000</td>\n",
              "      <td>394.000000</td>\n",
              "      <td>540.000000</td>\n",
              "      <td>16788.000000</td>\n",
              "    </tr>\n",
              "    <tr>\n",
              "      <th>12</th>\n",
              "      <td>reliable</td>\n",
              "      <td>4</td>\n",
              "      <td>20002.000000</td>\n",
              "      <td>220.423058</td>\n",
              "      <td>291.913727</td>\n",
              "      <td>3.000000</td>\n",
              "      <td>86.000000</td>\n",
              "      <td>158.000000</td>\n",
              "      <td>260.000000</td>\n",
              "      <td>15139.000000</td>\n",
              "    </tr>\n",
              "    <tr>\n",
              "      <th>13</th>\n",
              "      <td>satire</td>\n",
              "      <td>0</td>\n",
              "      <td>6593.000000</td>\n",
              "      <td>33.000000</td>\n",
              "      <td>0.000000</td>\n",
              "      <td>33.000000</td>\n",
              "      <td>33.000000</td>\n",
              "      <td>33.000000</td>\n",
              "      <td>33.000000</td>\n",
              "      <td>33.000000</td>\n",
              "    </tr>\n",
              "    <tr>\n",
              "      <th>14</th>\n",
              "      <td>satire</td>\n",
              "      <td>2</td>\n",
              "      <td>2006.000000</td>\n",
              "      <td>138.983051</td>\n",
              "      <td>153.506411</td>\n",
              "      <td>7.000000</td>\n",
              "      <td>9.000000</td>\n",
              "      <td>46.500000</td>\n",
              "      <td>251.750000</td>\n",
              "      <td>956.000000</td>\n",
              "    </tr>\n",
              "    <tr>\n",
              "      <th>15</th>\n",
              "      <td>satire</td>\n",
              "      <td>3</td>\n",
              "      <td>810.000000</td>\n",
              "      <td>315.513580</td>\n",
              "      <td>385.383084</td>\n",
              "      <td>14.000000</td>\n",
              "      <td>216.000000</td>\n",
              "      <td>286.500000</td>\n",
              "      <td>378.000000</td>\n",
              "      <td>9519.000000</td>\n",
              "    </tr>\n",
              "    <tr>\n",
              "      <th>16</th>\n",
              "      <td>satire</td>\n",
              "      <td>4</td>\n",
              "      <td>31448.000000</td>\n",
              "      <td>153.302404</td>\n",
              "      <td>141.297891</td>\n",
              "      <td>3.000000</td>\n",
              "      <td>13.000000</td>\n",
              "      <td>181.000000</td>\n",
              "      <td>250.000000</td>\n",
              "      <td>2749.000000</td>\n",
              "    </tr>\n",
              "  </tbody>\n",
              "</table>\n",
              "</div>"
            ],
            "text/plain": [
              "         type  cluster        count  ...        50%        75%          max\n",
              "0   clickbait        2  1405.000000  ... 340.000000 472.000000  6824.000000\n",
              "1   clickbait        3  1416.000000  ... 320.000000 449.000000  9508.000000\n",
              "2   clickbait        4 13321.000000  ... 213.000000 332.000000  4643.000000\n",
              "3        fake        1  2915.000000  ...   8.000000  48.000000   102.000000\n",
              "4        fake        2 18412.000000  ... 377.500000 586.000000  9484.000000\n",
              "5        fake        3  3308.000000  ... 353.000000 621.250000  7971.000000\n",
              "6        fake        4 86862.000000  ... 155.000000 307.000000 13843.000000\n",
              "7        hate        2 12770.000000  ... 261.000000 413.000000  9158.000000\n",
              "8        hate        3 19690.000000  ... 240.000000 372.000000  9209.000000\n",
              "9        hate        4 10956.000000  ... 145.000000 281.000000  6552.000000\n",
              "10   reliable        2  4962.000000  ... 239.000000 450.000000  5062.000000\n",
              "11   reliable        3 34821.000000  ... 394.000000 540.000000 16788.000000\n",
              "12   reliable        4 20002.000000  ... 158.000000 260.000000 15139.000000\n",
              "13     satire        0  6593.000000  ...  33.000000  33.000000    33.000000\n",
              "14     satire        2  2006.000000  ...  46.500000 251.750000   956.000000\n",
              "15     satire        3   810.000000  ... 286.500000 378.000000  9519.000000\n",
              "16     satire        4 31448.000000  ... 181.000000 250.000000  2749.000000\n",
              "\n",
              "[17 rows x 10 columns]"
            ]
          },
          "metadata": {
            "tags": []
          },
          "execution_count": 25
        }
      ]
    },
    {
      "cell_type": "code",
      "metadata": {
        "colab": {
          "base_uri": "https://localhost:8080/",
          "height": 204
        },
        "id": "eKzyXOsDnBFF",
        "outputId": "37b57022-780c-4063-afa7-6deebcf0dfdd"
      },
      "source": [
        "s_a = df.groupby('cluster')['word'].describe().reset_index()\n",
        "s_a"
      ],
      "execution_count": null,
      "outputs": [
        {
          "output_type": "execute_result",
          "data": {
            "text/html": [
              "<div>\n",
              "<style scoped>\n",
              "    .dataframe tbody tr th:only-of-type {\n",
              "        vertical-align: middle;\n",
              "    }\n",
              "\n",
              "    .dataframe tbody tr th {\n",
              "        vertical-align: top;\n",
              "    }\n",
              "\n",
              "    .dataframe thead th {\n",
              "        text-align: right;\n",
              "    }\n",
              "</style>\n",
              "<table border=\"1\" class=\"dataframe\">\n",
              "  <thead>\n",
              "    <tr style=\"text-align: right;\">\n",
              "      <th></th>\n",
              "      <th>cluster</th>\n",
              "      <th>count</th>\n",
              "      <th>mean</th>\n",
              "      <th>std</th>\n",
              "      <th>min</th>\n",
              "      <th>25%</th>\n",
              "      <th>50%</th>\n",
              "      <th>75%</th>\n",
              "      <th>max</th>\n",
              "    </tr>\n",
              "  </thead>\n",
              "  <tbody>\n",
              "    <tr>\n",
              "      <th>0</th>\n",
              "      <td>0</td>\n",
              "      <td>6712.000000</td>\n",
              "      <td>9.021454</td>\n",
              "      <td>2.552822</td>\n",
              "      <td>5.000000</td>\n",
              "      <td>5.000000</td>\n",
              "      <td>10.000000</td>\n",
              "      <td>11.000000</td>\n",
              "      <td>11.000000</td>\n",
              "    </tr>\n",
              "    <tr>\n",
              "      <th>1</th>\n",
              "      <td>1</td>\n",
              "      <td>143593.000000</td>\n",
              "      <td>214.440864</td>\n",
              "      <td>251.207381</td>\n",
              "      <td>1.000000</td>\n",
              "      <td>70.000000</td>\n",
              "      <td>161.000000</td>\n",
              "      <td>278.000000</td>\n",
              "      <td>15139.000000</td>\n",
              "    </tr>\n",
              "    <tr>\n",
              "      <th>2</th>\n",
              "      <td>2</td>\n",
              "      <td>6593.000000</td>\n",
              "      <td>33.000000</td>\n",
              "      <td>0.000000</td>\n",
              "      <td>33.000000</td>\n",
              "      <td>33.000000</td>\n",
              "      <td>33.000000</td>\n",
              "      <td>33.000000</td>\n",
              "      <td>33.000000</td>\n",
              "    </tr>\n",
              "    <tr>\n",
              "      <th>3</th>\n",
              "      <td>3</td>\n",
              "      <td>2915.000000</td>\n",
              "      <td>24.510463</td>\n",
              "      <td>20.241375</td>\n",
              "      <td>8.000000</td>\n",
              "      <td>8.000000</td>\n",
              "      <td>8.000000</td>\n",
              "      <td>48.000000</td>\n",
              "      <td>102.000000</td>\n",
              "    </tr>\n",
              "    <tr>\n",
              "      <th>4</th>\n",
              "      <td>4</td>\n",
              "      <td>111884.000000</td>\n",
              "      <td>429.930124</td>\n",
              "      <td>584.532355</td>\n",
              "      <td>3.000000</td>\n",
              "      <td>190.000000</td>\n",
              "      <td>320.000000</td>\n",
              "      <td>492.000000</td>\n",
              "      <td>16788.000000</td>\n",
              "    </tr>\n",
              "  </tbody>\n",
              "</table>\n",
              "</div>"
            ],
            "text/plain": [
              "   cluster         count       mean  ...        50%        75%          max\n",
              "0        0   6712.000000   9.021454  ...  10.000000  11.000000    11.000000\n",
              "1        1 143593.000000 214.440864  ... 161.000000 278.000000 15139.000000\n",
              "2        2   6593.000000  33.000000  ...  33.000000  33.000000    33.000000\n",
              "3        3   2915.000000  24.510463  ...   8.000000  48.000000   102.000000\n",
              "4        4 111884.000000 429.930124  ... 320.000000 492.000000 16788.000000\n",
              "\n",
              "[5 rows x 9 columns]"
            ]
          },
          "metadata": {
            "tags": []
          },
          "execution_count": 42
        }
      ]
    },
    {
      "cell_type": "markdown",
      "metadata": {
        "id": "mqJdpwPylEnP"
      },
      "source": [
        "# Cluster Visualization\n"
      ]
    },
    {
      "cell_type": "code",
      "metadata": {
        "colab": {
          "base_uri": "https://localhost:8080/",
          "height": 328
        },
        "id": "K2Xp8j8bPIkH",
        "outputId": "2a992f6c-17e5-4898-f94d-2ce4660be1fd"
      },
      "source": [
        "df.groupby(['type','cluster'])['word'].count().unstack().plot(kind='bar', stacked=False)\n",
        "plt.title(\"Word Count by Cluster and Type\", fontsize =20)"
      ],
      "execution_count": null,
      "outputs": [
        {
          "output_type": "execute_result",
          "data": {
            "text/plain": [
              "<matplotlib.axes._subplots.AxesSubplot at 0x7ff205ddda90>"
            ]
          },
          "metadata": {
            "tags": []
          },
          "execution_count": 32
        },
        {
          "output_type": "display_data",
          "data": {
            "image/png": "[encoded data removed]",
            "text/plain": [
              "<Figure size 432x288 with 1 Axes>"
            ]
          },
          "metadata": {
            "tags": [],
            "needs_background": "light"
          }
        }
      ]
    },
    {
      "cell_type": "code",
      "metadata": {
        "colab": {
          "base_uri": "https://localhost:8080/",
          "height": 312
        },
        "id": "k9V9JvGmmVto",
        "outputId": "a1334fb8-fb6c-4e57-b4c2-a49dd6451a78"
      },
      "source": [
        "plt.figure(figsize=(12,4))\n",
        "plt.bar(df.cluster.value_counts().index, df.cluster.value_counts())\n",
        "plt.xlabel('Cluster Number')\n",
        "plt.ylabel('Count')\n",
        "plt.title('Number of articles by cluster')"
      ],
      "execution_count": null,
      "outputs": [
        {
          "output_type": "execute_result",
          "data": {
            "text/plain": [
              "Text(0.5, 1.0, 'Number of articles by cluster')"
            ]
          },
          "metadata": {
            "tags": []
          },
          "execution_count": 33
        },
        {
          "output_type": "display_data",
          "data": {
            "image/png": "[encoded data removed]",
            "text/plain": [
              "<Figure size 864x288 with 1 Axes>"
            ]
          },
          "metadata": {
            "tags": [],
            "needs_background": "light"
          }
        }
      ]
    },
    {
      "cell_type": "code",
      "metadata": {
        "id": "sjbfiGF7yF6G"
      },
      "source": [
        "import plotly.offline as py\n",
        "from plotly.offline import init_notebook_mode, iplot\n",
        "import plotly.figure_factory as ff\n",
        "import matplotlib as plt\n",
        "import plotly.graph_objs as go\n",
        "import plotly.tools as tls\n",
        "%matplotlib inline"
      ],
      "execution_count": null,
      "outputs": []
    },
    {
      "cell_type": "code",
      "metadata": {
        "colab": {
          "base_uri": "https://localhost:8080/",
          "height": 542
        },
        "id": "9s_ZiHIPx9pA",
        "outputId": "ef8bb5ec-84be-42b4-efd4-20ed925ec84f"
      },
      "source": [
        "trace1 = go.Bar(\n",
        "    x=s_a['cluster'],\n",
        "    y=s_a['count'] \n",
        ")\n",
        "\n",
        "data = [trace1]\n",
        "layout = go.Layout(\n",
        "    title = 'Sentiment_Count'\n",
        ")\n",
        "\n",
        "fig = go.Figure(data=data, layout=layout)\n",
        "\n",
        "fig.show(renderer=\"colab\")\n"
      ],
      "execution_count": null,
      "outputs": [
        {
          "output_type": "display_data",
          "data": {
            "text/html": [
              "<html>\n",
              "<head><meta charset=\"utf-8\" /></head>\n",
              "<body>\n",
              "    <div>\n",
              "            <script src=\"https://cdnjs.cloudflare.com/ajax/libs/mathjax/2.7.5/MathJax.js?config=TeX-AMS-MML_SVG\"></script><script type=\"text/javascript\">if (window.MathJax) {MathJax.Hub.Config({SVG: {font: \"STIX-Web\"}});}</script>\n",
              "                <script type=\"text/javascript\">window.PlotlyConfig = {MathJaxConfig: 'local'};</script>\n",
              "        <script src=\"https://cdn.plot.ly/plotly-latest.min.js\"></script>    \n",
              "            <div id=\"9e031e53-30c9-4337-b10b-630f4c81f9d8\" class=\"plotly-graph-div\" style=\"height:525px; width:100%;\"></div>\n",
              "            <script type=\"text/javascript\">\n",
              "                \n",
              "                    window.PLOTLYENV=window.PLOTLYENV || {};\n",
              "                    \n",
              "                if (document.getElementById(\"9e031e53-30c9-4337-b10b-630f4c81f9d8\")) {\n",
              "                    Plotly.newPlot(\n",
              "                        '9e031e53-30c9-4337-b10b-630f4c81f9d8',\n",
              "                        [{\"type\": \"bar\", \"x\": [0, 1, 2, 3, 4], \"y\": [6712.0, 143593.0, 6593.0, 2915.0, 111884.0]}],\n",
              "                        {\"template\": {\"data\": {\"bar\": [{\"error_x\": {\"color\": \"#2a3f5f\"}, \"error_y\": {\"color\": \"#2a3f5f\"}, \"marker\": {\"line\": {\"color\": \"#E5ECF6\", \"width\": 0.5}}, \"type\": \"bar\"}], \"barpolar\": [{\"marker\": {\"line\": {\"color\": \"#E5ECF6\", \"width\": 0.5}}, \"type\": \"barpolar\"}], \"carpet\": [{\"aaxis\": {\"endlinecolor\": \"#2a3f5f\", \"gridcolor\": \"white\", \"linecolor\": \"white\", \"minorgridcolor\": \"white\", \"startlinecolor\": \"#2a3f5f\"}, \"baxis\": {\"endlinecolor\": \"#2a3f5f\", \"gridcolor\": \"white\", \"linecolor\": \"white\", \"minorgridcolor\": \"white\", \"startlinecolor\": \"#2a3f5f\"}, \"type\": \"carpet\"}], \"choropleth\": [{\"colorbar\": {\"outlinewidth\": 0, \"ticks\": \"\"}, \"type\": \"choropleth\"}], \"contour\": [{\"colorbar\": {\"outlinewidth\": 0, \"ticks\": \"\"}, \"colorscale\": [[0.0, \"#0d0887\"], [0.1111111111111111, \"#46039f\"], [0.2222222222222222, \"#7201a8\"], [0.3333333333333333, \"#9c179e\"], [0.4444444444444444, \"#bd3786\"], [0.5555555555555556, \"#d8576b\"], [0.6666666666666666, \"#ed7953\"], [0.7777777777777778, \"#fb9f3a\"], [0.8888888888888888, \"#fdca26\"], [1.0, \"#f0f921\"]], \"type\": \"contour\"}], \"contourcarpet\": [{\"colorbar\": {\"outlinewidth\": 0, \"ticks\": \"\"}, \"type\": \"contourcarpet\"}], \"heatmap\": [{\"colorbar\": {\"outlinewidth\": 0, \"ticks\": \"\"}, \"colorscale\": [[0.0, \"#0d0887\"], [0.1111111111111111, \"#46039f\"], [0.2222222222222222, \"#7201a8\"], [0.3333333333333333, \"#9c179e\"], [0.4444444444444444, \"#bd3786\"], [0.5555555555555556, \"#d8576b\"], [0.6666666666666666, \"#ed7953\"], [0.7777777777777778, \"#fb9f3a\"], [0.8888888888888888, \"#fdca26\"], [1.0, \"#f0f921\"]], \"type\": \"heatmap\"}], \"heatmapgl\": [{\"colorbar\": {\"outlinewidth\": 0, \"ticks\": \"\"}, \"colorscale\": [[0.0, \"#0d0887\"], [0.1111111111111111, \"#46039f\"], [0.2222222222222222, \"#7201a8\"], [0.3333333333333333, \"#9c179e\"], [0.4444444444444444, \"#bd3786\"], [0.5555555555555556, \"#d8576b\"], [0.6666666666666666, \"#ed7953\"], [0.7777777777777778, \"#fb9f3a\"], [0.8888888888888888, \"#fdca26\"], [1.0, \"#f0f921\"]], \"type\": \"heatmapgl\"}], \"histogram\": [{\"marker\": {\"colorbar\": {\"outlinewidth\": 0, \"ticks\": \"\"}}, \"type\": \"histogram\"}], \"histogram2d\": [{\"colorbar\": {\"outlinewidth\": 0, \"ticks\": \"\"}, \"colorscale\": [[0.0, \"#0d0887\"], [0.1111111111111111, \"#46039f\"], [0.2222222222222222, \"#7201a8\"], [0.3333333333333333, \"#9c179e\"], [0.4444444444444444, \"#bd3786\"], [0.5555555555555556, \"#d8576b\"], [0.6666666666666666, \"#ed7953\"], [0.7777777777777778, \"#fb9f3a\"], [0.8888888888888888, \"#fdca26\"], [1.0, \"#f0f921\"]], \"type\": \"histogram2d\"}], \"histogram2dcontour\": [{\"colorbar\": {\"outlinewidth\": 0, \"ticks\": \"\"}, \"colorscale\": [[0.0, \"#0d0887\"], [0.1111111111111111, \"#46039f\"], [0.2222222222222222, \"#7201a8\"], [0.3333333333333333, \"#9c179e\"], [0.4444444444444444, \"#bd3786\"], [0.5555555555555556, \"#d8576b\"], [0.6666666666666666, \"#ed7953\"], [0.7777777777777778, \"#fb9f3a\"], [0.8888888888888888, \"#fdca26\"], [1.0, \"#f0f921\"]], \"type\": \"histogram2dcontour\"}], \"mesh3d\": [{\"colorbar\": {\"outlinewidth\": 0, \"ticks\": \"\"}, \"type\": \"mesh3d\"}], \"parcoords\": [{\"line\": {\"colorbar\": {\"outlinewidth\": 0, \"ticks\": \"\"}}, \"type\": \"parcoords\"}], \"pie\": [{\"automargin\": true, \"type\": \"pie\"}], \"scatter\": [{\"marker\": {\"colorbar\": {\"outlinewidth\": 0, \"ticks\": \"\"}}, \"type\": \"scatter\"}], \"scatter3d\": [{\"line\": {\"colorbar\": {\"outlinewidth\": 0, \"ticks\": \"\"}}, \"marker\": {\"colorbar\": {\"outlinewidth\": 0, \"ticks\": \"\"}}, \"type\": \"scatter3d\"}], \"scattercarpet\": [{\"marker\": {\"colorbar\": {\"outlinewidth\": 0, \"ticks\": \"\"}}, \"type\": \"scattercarpet\"}], \"scattergeo\": [{\"marker\": {\"colorbar\": {\"outlinewidth\": 0, \"ticks\": \"\"}}, \"type\": \"scattergeo\"}], \"scattergl\": [{\"marker\": {\"colorbar\": {\"outlinewidth\": 0, \"ticks\": \"\"}}, \"type\": \"scattergl\"}], \"scattermapbox\": [{\"marker\": {\"colorbar\": {\"outlinewidth\": 0, \"ticks\": \"\"}}, \"type\": \"scattermapbox\"}], \"scatterpolar\": [{\"marker\": {\"colorbar\": {\"outlinewidth\": 0, \"ticks\": \"\"}}, \"type\": \"scatterpolar\"}], \"scatterpolargl\": [{\"marker\": {\"colorbar\": {\"outlinewidth\": 0, \"ticks\": \"\"}}, \"type\": \"scatterpolargl\"}], \"scatterternary\": [{\"marker\": {\"colorbar\": {\"outlinewidth\": 0, \"ticks\": \"\"}}, \"type\": \"scatterternary\"}], \"surface\": [{\"colorbar\": {\"outlinewidth\": 0, \"ticks\": \"\"}, \"colorscale\": [[0.0, \"#0d0887\"], [0.1111111111111111, \"#46039f\"], [0.2222222222222222, \"#7201a8\"], [0.3333333333333333, \"#9c179e\"], [0.4444444444444444, \"#bd3786\"], [0.5555555555555556, \"#d8576b\"], [0.6666666666666666, \"#ed7953\"], [0.7777777777777778, \"#fb9f3a\"], [0.8888888888888888, \"#fdca26\"], [1.0, \"#f0f921\"]], \"type\": \"surface\"}], \"table\": [{\"cells\": {\"fill\": {\"color\": \"#EBF0F8\"}, \"line\": {\"color\": \"white\"}}, \"header\": {\"fill\": {\"color\": \"#C8D4E3\"}, \"line\": {\"color\": \"white\"}}, \"type\": \"table\"}]}, \"layout\": {\"annotationdefaults\": {\"arrowcolor\": \"#2a3f5f\", \"arrowhead\": 0, \"arrowwidth\": 1}, \"coloraxis\": {\"colorbar\": {\"outlinewidth\": 0, \"ticks\": \"\"}}, \"colorscale\": {\"diverging\": [[0, \"#8e0152\"], [0.1, \"#c51b7d\"], [0.2, \"#de77ae\"], [0.3, \"#f1b6da\"], [0.4, \"#fde0ef\"], [0.5, \"#f7f7f7\"], [0.6, \"#e6f5d0\"], [0.7, \"#b8e186\"], [0.8, \"#7fbc41\"], [0.9, \"#4d9221\"], [1, \"#276419\"]], \"sequential\": [[0.0, \"#0d0887\"], [0.1111111111111111, \"#46039f\"], [0.2222222222222222, \"#7201a8\"], [0.3333333333333333, \"#9c179e\"], [0.4444444444444444, \"#bd3786\"], [0.5555555555555556, \"#d8576b\"], [0.6666666666666666, \"#ed7953\"], [0.7777777777777778, \"#fb9f3a\"], [0.8888888888888888, \"#fdca26\"], [1.0, \"#f0f921\"]], \"sequentialminus\": [[0.0, \"#0d0887\"], [0.1111111111111111, \"#46039f\"], [0.2222222222222222, \"#7201a8\"], [0.3333333333333333, \"#9c179e\"], [0.4444444444444444, \"#bd3786\"], [0.5555555555555556, \"#d8576b\"], [0.6666666666666666, \"#ed7953\"], [0.7777777777777778, \"#fb9f3a\"], [0.8888888888888888, \"#fdca26\"], [1.0, \"#f0f921\"]]}, \"colorway\": [\"#636efa\", \"#EF553B\", \"#00cc96\", \"#ab63fa\", \"#FFA15A\", \"#19d3f3\", \"#FF6692\", \"#B6E880\", \"#FF97FF\", \"#FECB52\"], \"font\": {\"color\": \"#2a3f5f\"}, \"geo\": {\"bgcolor\": \"white\", \"lakecolor\": \"white\", \"landcolor\": \"#E5ECF6\", \"showlakes\": true, \"showland\": true, \"subunitcolor\": \"white\"}, \"hoverlabel\": {\"align\": \"left\"}, \"hovermode\": \"closest\", \"mapbox\": {\"style\": \"light\"}, \"paper_bgcolor\": \"white\", \"plot_bgcolor\": \"#E5ECF6\", \"polar\": {\"angularaxis\": {\"gridcolor\": \"white\", \"linecolor\": \"white\", \"ticks\": \"\"}, \"bgcolor\": \"#E5ECF6\", \"radialaxis\": {\"gridcolor\": \"white\", \"linecolor\": \"white\", \"ticks\": \"\"}}, \"scene\": {\"xaxis\": {\"backgroundcolor\": \"#E5ECF6\", \"gridcolor\": \"white\", \"gridwidth\": 2, \"linecolor\": \"white\", \"showbackground\": true, \"ticks\": \"\", \"zerolinecolor\": \"white\"}, \"yaxis\": {\"backgroundcolor\": \"#E5ECF6\", \"gridcolor\": \"white\", \"gridwidth\": 2, \"linecolor\": \"white\", \"showbackground\": true, \"ticks\": \"\", \"zerolinecolor\": \"white\"}, \"zaxis\": {\"backgroundcolor\": \"#E5ECF6\", \"gridcolor\": \"white\", \"gridwidth\": 2, \"linecolor\": \"white\", \"showbackground\": true, \"ticks\": \"\", \"zerolinecolor\": \"white\"}}, \"shapedefaults\": {\"line\": {\"color\": \"#2a3f5f\"}}, \"ternary\": {\"aaxis\": {\"gridcolor\": \"white\", \"linecolor\": \"white\", \"ticks\": \"\"}, \"baxis\": {\"gridcolor\": \"white\", \"linecolor\": \"white\", \"ticks\": \"\"}, \"bgcolor\": \"#E5ECF6\", \"caxis\": {\"gridcolor\": \"white\", \"linecolor\": \"white\", \"ticks\": \"\"}}, \"title\": {\"x\": 0.05}, \"xaxis\": {\"automargin\": true, \"gridcolor\": \"white\", \"linecolor\": \"white\", \"ticks\": \"\", \"title\": {\"standoff\": 15}, \"zerolinecolor\": \"white\", \"zerolinewidth\": 2}, \"yaxis\": {\"automargin\": true, \"gridcolor\": \"white\", \"linecolor\": \"white\", \"ticks\": \"\", \"title\": {\"standoff\": 15}, \"zerolinecolor\": \"white\", \"zerolinewidth\": 2}}}, \"title\": {\"text\": \"Sentiment_Count\"}},\n",
              "                        {\"responsive\": true}\n",
              "                    ).then(function(){\n",
              "                            \n",
              "var gd = document.getElementById('9e031e53-30c9-4337-b10b-630f4c81f9d8');\n",
              "var x = new MutationObserver(function (mutations, observer) {{\n",
              "        var display = window.getComputedStyle(gd).display;\n",
              "        if (!display || display === 'none') {{\n",
              "            console.log([gd, 'removed!']);\n",
              "            Plotly.purge(gd);\n",
              "            observer.disconnect();\n",
              "        }}\n",
              "}});\n",
              "\n",
              "// Listen for the removal of the full notebook cells\n",
              "var notebookContainer = gd.closest('#notebook-container');\n",
              "if (notebookContainer) {{\n",
              "    x.observe(notebookContainer, {childList: true});\n",
              "}}\n",
              "\n",
              "// Listen for the clearing of the current output cell\n",
              "var outputEl = gd.closest('.output');\n",
              "if (outputEl) {{\n",
              "    x.observe(outputEl, {childList: true});\n",
              "}}\n",
              "\n",
              "                        })\n",
              "                };\n",
              "                \n",
              "            </script>\n",
              "        </div>\n",
              "</body>\n",
              "</html>"
            ]
          },
          "metadata": {
            "tags": []
          }
        }
      ]
    },
    {
      "cell_type": "code",
      "metadata": {
        "colab": {
          "base_uri": "https://localhost:8080/",
          "height": 439
        },
        "id": "V872sbZV-Pa5",
        "outputId": "51bcca62-aa06-4443-9721-136a0748fec3"
      },
      "source": [
        "clusters = df.groupby(['cluster', 'type']).size()\n",
        "fig2, ax2 = plt.subplots(figsize = (40, 15))\n",
        "sns.heatmap(clusters.unstack(level = 'type'), ax = ax2, cmap = 'PuRd')\n",
        "plt.title(\"Heatmap of Cluster Correlation to Original Article Types\", fontsize =20)\n",
        "ax2.set_xlabel('type', fontdict = {'weight': 'bold', 'size': 24})\n",
        "ax2.set_ylabel('cluster', fontdict = {'weight': 'bold', 'size': 24})\n",
        "for label in ax2.get_xticklabels():\n",
        "    label.set_size(10)\n",
        "    label.set_weight(\"bold\")\n",
        "for label in ax2.get_yticklabels():\n",
        "    label.set_size(10)\n",
        "    label.set_weight(\"bold\")"
      ],
      "execution_count": null,
      "outputs": [
        {
          "output_type": "display_data",
          "data": {
            "image/png": "[encoded data removed]",
            "text/plain": [
              "<Figure size 2880x1080 with 2 Axes>"
            ]
          },
          "metadata": {
            "tags": [],
            "needs_background": "light"
          }
        }
      ]
    },
    {
      "cell_type": "code",
      "metadata": {
        "colab": {
          "base_uri": "https://localhost:8080/",
          "height": 542
        },
        "id": "zgNu7Tzoz4VE",
        "outputId": "f5c0adc7-140e-4aa8-a6a7-ca497a656706"
      },
      "source": [
        "from wordcloud import WordCloud\n",
        "text = str(df[df['cluster'] == 0]['clean'].tolist())\n",
        "text = text.lower()\n",
        "wordcloud = WordCloud(max_words=50).generate(text)\n",
        "\n",
        "labels = list(wordcloud.words_.keys())\n",
        "values = list(wordcloud.words_.values())\n",
        "trace = go.Pie(labels=labels, values=values,textinfo='value', hoverinfo='label+value',textposition = 'inside')\n",
        "layout = go.Layout(\n",
        "    title = 'Word Pie Plot for Cluster 0'\n",
        ")\n",
        "data = [trace]\n",
        "fig = go.Figure(data=data, layout=layout)\n",
        "fig.show(renderer=\"colab\")"
      ],
      "execution_count": null,
      "outputs": [
        {
          "output_type": "display_data",
          "data": {
            "text/html": [
              "<html>\n",
              "<head><meta charset=\"utf-8\" /></head>\n",
              "<body>\n",
              "    <div>\n",
              "            <script src=\"https://cdnjs.cloudflare.com/ajax/libs/mathjax/2.7.5/MathJax.js?config=TeX-AMS-MML_SVG\"></script><script type=\"text/javascript\">if (window.MathJax) {MathJax.Hub.Config({SVG: {font: \"STIX-Web\"}});}</script>\n",
              "                <script type=\"text/javascript\">window.PlotlyConfig = {MathJaxConfig: 'local'};</script>\n",
              "        <script src=\"https://cdn.plot.ly/plotly-latest.min.js\"></script>    \n",
              "            <div id=\"2c421354-a36e-4ffb-9501-7b56b28c071c\" class=\"plotly-graph-div\" style=\"height:525px; width:100%;\"></div>\n",
              "            <script type=\"text/javascript\">\n",
              "                \n",
              "                    window.PLOTLYENV=window.PLOTLYENV || {};\n",
              "                    \n",
              "                if (document.getElementById(\"2c421354-a36e-4ffb-9501-7b56b28c071c\")) {\n",
              "                    Plotly.newPlot(\n",
              "                        '2c421354-a36e-4ffb-9501-7b56b28c071c',\n",
              "                        [{\"hoverinfo\": \"label+value\", \"labels\": [\"local area\", \"area man\", \"man afraid\", \"afraid woman\", \"woman might\", \"might come\", \"come woodwork\", \"woodwork hold\", \"hold accountable\", \"accountable something'\", \"something' local\", \"something going\", \"going many\", \"many us\", \"us speculated\", \"speculated help\", \"help anon\", \"anon videos'\", \"videos' something\", \"photogallery us\", \"us gives\", \"gives us\", \"us answers'\", \"answers' photogallery\", \"videos' local\", \"something' photogallery\"], \"textinfo\": \"value\", \"textposition\": \"inside\", \"type\": \"pie\", \"values\": [1.0, 1.0, 1.0, 1.0, 1.0, 1.0, 1.0, 1.0, 1.0, 1.0, 0.9996536196744025, 0.6698995497055767, 0.6698995497055767, 0.6698995497055767, 0.6698995497055767, 0.6698995497055767, 0.6698995497055767, 0.6698995497055767, 0.6695531693799792, 0.6550051957048839, 0.6550051957048839, 0.6550051957048839, 0.6550051957048839, 0.6546588153792865, 0.00034638032559750607, 0.00034638032559750607]}],\n",
              "                        {\"template\": {\"data\": {\"bar\": [{\"error_x\": {\"color\": \"#2a3f5f\"}, \"error_y\": {\"color\": \"#2a3f5f\"}, \"marker\": {\"line\": {\"color\": \"#E5ECF6\", \"width\": 0.5}}, \"type\": \"bar\"}], \"barpolar\": [{\"marker\": {\"line\": {\"color\": \"#E5ECF6\", \"width\": 0.5}}, \"type\": \"barpolar\"}], \"carpet\": [{\"aaxis\": {\"endlinecolor\": \"#2a3f5f\", \"gridcolor\": \"white\", \"linecolor\": \"white\", \"minorgridcolor\": \"white\", \"startlinecolor\": \"#2a3f5f\"}, \"baxis\": {\"endlinecolor\": \"#2a3f5f\", \"gridcolor\": \"white\", \"linecolor\": \"white\", \"minorgridcolor\": \"white\", \"startlinecolor\": \"#2a3f5f\"}, \"type\": \"carpet\"}], \"choropleth\": [{\"colorbar\": {\"outlinewidth\": 0, \"ticks\": \"\"}, \"type\": \"choropleth\"}], \"contour\": [{\"colorbar\": {\"outlinewidth\": 0, \"ticks\": \"\"}, \"colorscale\": [[0.0, \"#0d0887\"], [0.1111111111111111, \"#46039f\"], [0.2222222222222222, \"#7201a8\"], [0.3333333333333333, \"#9c179e\"], [0.4444444444444444, \"#bd3786\"], [0.5555555555555556, \"#d8576b\"], [0.6666666666666666, \"#ed7953\"], [0.7777777777777778, \"#fb9f3a\"], [0.8888888888888888, \"#fdca26\"], [1.0, \"#f0f921\"]], \"type\": \"contour\"}], \"contourcarpet\": [{\"colorbar\": {\"outlinewidth\": 0, \"ticks\": \"\"}, \"type\": \"contourcarpet\"}], \"heatmap\": [{\"colorbar\": {\"outlinewidth\": 0, \"ticks\": \"\"}, \"colorscale\": [[0.0, \"#0d0887\"], [0.1111111111111111, \"#46039f\"], [0.2222222222222222, \"#7201a8\"], [0.3333333333333333, \"#9c179e\"], [0.4444444444444444, \"#bd3786\"], [0.5555555555555556, \"#d8576b\"], [0.6666666666666666, \"#ed7953\"], [0.7777777777777778, \"#fb9f3a\"], [0.8888888888888888, \"#fdca26\"], [1.0, \"#f0f921\"]], \"type\": \"heatmap\"}], \"heatmapgl\": [{\"colorbar\": {\"outlinewidth\": 0, \"ticks\": \"\"}, \"colorscale\": [[0.0, \"#0d0887\"], [0.1111111111111111, \"#46039f\"], [0.2222222222222222, \"#7201a8\"], [0.3333333333333333, \"#9c179e\"], [0.4444444444444444, \"#bd3786\"], [0.5555555555555556, \"#d8576b\"], [0.6666666666666666, \"#ed7953\"], [0.7777777777777778, \"#fb9f3a\"], [0.8888888888888888, \"#fdca26\"], [1.0, \"#f0f921\"]], \"type\": \"heatmapgl\"}], \"histogram\": [{\"marker\": {\"colorbar\": {\"outlinewidth\": 0, \"ticks\": \"\"}}, \"type\": \"histogram\"}], \"histogram2d\": [{\"colorbar\": {\"outlinewidth\": 0, \"ticks\": \"\"}, \"colorscale\": [[0.0, \"#0d0887\"], [0.1111111111111111, \"#46039f\"], [0.2222222222222222, \"#7201a8\"], [0.3333333333333333, \"#9c179e\"], [0.4444444444444444, \"#bd3786\"], [0.5555555555555556, \"#d8576b\"], [0.6666666666666666, \"#ed7953\"], [0.7777777777777778, \"#fb9f3a\"], [0.8888888888888888, \"#fdca26\"], [1.0, \"#f0f921\"]], \"type\": \"histogram2d\"}], \"histogram2dcontour\": [{\"colorbar\": {\"outlinewidth\": 0, \"ticks\": \"\"}, \"colorscale\": [[0.0, \"#0d0887\"], [0.1111111111111111, \"#46039f\"], [0.2222222222222222, \"#7201a8\"], [0.3333333333333333, \"#9c179e\"], [0.4444444444444444, \"#bd3786\"], [0.5555555555555556, \"#d8576b\"], [0.6666666666666666, \"#ed7953\"], [0.7777777777777778, \"#fb9f3a\"], [0.8888888888888888, \"#fdca26\"], [1.0, \"#f0f921\"]], \"type\": \"histogram2dcontour\"}], \"mesh3d\": [{\"colorbar\": {\"outlinewidth\": 0, \"ticks\": \"\"}, \"type\": \"mesh3d\"}], \"parcoords\": [{\"line\": {\"colorbar\": {\"outlinewidth\": 0, \"ticks\": \"\"}}, \"type\": \"parcoords\"}], \"pie\": [{\"automargin\": true, \"type\": \"pie\"}], \"scatter\": [{\"marker\": {\"colorbar\": {\"outlinewidth\": 0, \"ticks\": \"\"}}, \"type\": \"scatter\"}], \"scatter3d\": [{\"line\": {\"colorbar\": {\"outlinewidth\": 0, \"ticks\": \"\"}}, \"marker\": {\"colorbar\": {\"outlinewidth\": 0, \"ticks\": \"\"}}, \"type\": \"scatter3d\"}], \"scattercarpet\": [{\"marker\": {\"colorbar\": {\"outlinewidth\": 0, \"ticks\": \"\"}}, \"type\": \"scattercarpet\"}], \"scattergeo\": [{\"marker\": {\"colorbar\": {\"outlinewidth\": 0, \"ticks\": \"\"}}, \"type\": \"scattergeo\"}], \"scattergl\": [{\"marker\": {\"colorbar\": {\"outlinewidth\": 0, \"ticks\": \"\"}}, \"type\": \"scattergl\"}], \"scattermapbox\": [{\"marker\": {\"colorbar\": {\"outlinewidth\": 0, \"ticks\": \"\"}}, \"type\": \"scattermapbox\"}], \"scatterpolar\": [{\"marker\": {\"colorbar\": {\"outlinewidth\": 0, \"ticks\": \"\"}}, \"type\": \"scatterpolar\"}], \"scatterpolargl\": [{\"marker\": {\"colorbar\": {\"outlinewidth\": 0, \"ticks\": \"\"}}, \"type\": \"scatterpolargl\"}], \"scatterternary\": [{\"marker\": {\"colorbar\": {\"outlinewidth\": 0, \"ticks\": \"\"}}, \"type\": \"scatterternary\"}], \"surface\": [{\"colorbar\": {\"outlinewidth\": 0, \"ticks\": \"\"}, \"colorscale\": [[0.0, \"#0d0887\"], [0.1111111111111111, \"#46039f\"], [0.2222222222222222, \"#7201a8\"], [0.3333333333333333, \"#9c179e\"], [0.4444444444444444, \"#bd3786\"], [0.5555555555555556, \"#d8576b\"], [0.6666666666666666, \"#ed7953\"], [0.7777777777777778, \"#fb9f3a\"], [0.8888888888888888, \"#fdca26\"], [1.0, \"#f0f921\"]], \"type\": \"surface\"}], \"table\": [{\"cells\": {\"fill\": {\"color\": \"#EBF0F8\"}, \"line\": {\"color\": \"white\"}}, \"header\": {\"fill\": {\"color\": \"#C8D4E3\"}, \"line\": {\"color\": \"white\"}}, \"type\": \"table\"}]}, \"layout\": {\"annotationdefaults\": {\"arrowcolor\": \"#2a3f5f\", \"arrowhead\": 0, \"arrowwidth\": 1}, \"coloraxis\": {\"colorbar\": {\"outlinewidth\": 0, \"ticks\": \"\"}}, \"colorscale\": {\"diverging\": [[0, \"#8e0152\"], [0.1, \"#c51b7d\"], [0.2, \"#de77ae\"], [0.3, \"#f1b6da\"], [0.4, \"#fde0ef\"], [0.5, \"#f7f7f7\"], [0.6, \"#e6f5d0\"], [0.7, \"#b8e186\"], [0.8, \"#7fbc41\"], [0.9, \"#4d9221\"], [1, \"#276419\"]], \"sequential\": [[0.0, \"#0d0887\"], [0.1111111111111111, \"#46039f\"], [0.2222222222222222, \"#7201a8\"], [0.3333333333333333, \"#9c179e\"], [0.4444444444444444, \"#bd3786\"], [0.5555555555555556, \"#d8576b\"], [0.6666666666666666, \"#ed7953\"], [0.7777777777777778, \"#fb9f3a\"], [0.8888888888888888, \"#fdca26\"], [1.0, \"#f0f921\"]], \"sequentialminus\": [[0.0, \"#0d0887\"], [0.1111111111111111, \"#46039f\"], [0.2222222222222222, \"#7201a8\"], [0.3333333333333333, \"#9c179e\"], [0.4444444444444444, \"#bd3786\"], [0.5555555555555556, \"#d8576b\"], [0.6666666666666666, \"#ed7953\"], [0.7777777777777778, \"#fb9f3a\"], [0.8888888888888888, \"#fdca26\"], [1.0, \"#f0f921\"]]}, \"colorway\": [\"#636efa\", \"#EF553B\", \"#00cc96\", \"#ab63fa\", \"#FFA15A\", \"#19d3f3\", \"#FF6692\", \"#B6E880\", \"#FF97FF\", \"#FECB52\"], \"font\": {\"color\": \"#2a3f5f\"}, \"geo\": {\"bgcolor\": \"white\", \"lakecolor\": \"white\", \"landcolor\": \"#E5ECF6\", \"showlakes\": true, \"showland\": true, \"subunitcolor\": \"white\"}, \"hoverlabel\": {\"align\": \"left\"}, \"hovermode\": \"closest\", \"mapbox\": {\"style\": \"light\"}, \"paper_bgcolor\": \"white\", \"plot_bgcolor\": \"#E5ECF6\", \"polar\": {\"angularaxis\": {\"gridcolor\": \"white\", \"linecolor\": \"white\", \"ticks\": \"\"}, \"bgcolor\": \"#E5ECF6\", \"radialaxis\": {\"gridcolor\": \"white\", \"linecolor\": \"white\", \"ticks\": \"\"}}, \"scene\": {\"xaxis\": {\"backgroundcolor\": \"#E5ECF6\", \"gridcolor\": \"white\", \"gridwidth\": 2, \"linecolor\": \"white\", \"showbackground\": true, \"ticks\": \"\", \"zerolinecolor\": \"white\"}, \"yaxis\": {\"backgroundcolor\": \"#E5ECF6\", \"gridcolor\": \"white\", \"gridwidth\": 2, \"linecolor\": \"white\", \"showbackground\": true, \"ticks\": \"\", \"zerolinecolor\": \"white\"}, \"zaxis\": {\"backgroundcolor\": \"#E5ECF6\", \"gridcolor\": \"white\", \"gridwidth\": 2, \"linecolor\": \"white\", \"showbackground\": true, \"ticks\": \"\", \"zerolinecolor\": \"white\"}}, \"shapedefaults\": {\"line\": {\"color\": \"#2a3f5f\"}}, \"ternary\": {\"aaxis\": {\"gridcolor\": \"white\", \"linecolor\": \"white\", \"ticks\": \"\"}, \"baxis\": {\"gridcolor\": \"white\", \"linecolor\": \"white\", \"ticks\": \"\"}, \"bgcolor\": \"#E5ECF6\", \"caxis\": {\"gridcolor\": \"white\", \"linecolor\": \"white\", \"ticks\": \"\"}}, \"title\": {\"x\": 0.05}, \"xaxis\": {\"automargin\": true, \"gridcolor\": \"white\", \"linecolor\": \"white\", \"ticks\": \"\", \"title\": {\"standoff\": 15}, \"zerolinecolor\": \"white\", \"zerolinewidth\": 2}, \"yaxis\": {\"automargin\": true, \"gridcolor\": \"white\", \"linecolor\": \"white\", \"ticks\": \"\", \"title\": {\"standoff\": 15}, \"zerolinecolor\": \"white\", \"zerolinewidth\": 2}}}, \"title\": {\"text\": \"Word Pie Plot for Cluster 0\"}},\n",
              "                        {\"responsive\": true}\n",
              "                    ).then(function(){\n",
              "                            \n",
              "var gd = document.getElementById('2c421354-a36e-4ffb-9501-7b56b28c071c');\n",
              "var x = new MutationObserver(function (mutations, observer) {{\n",
              "        var display = window.getComputedStyle(gd).display;\n",
              "        if (!display || display === 'none') {{\n",
              "            console.log([gd, 'removed!']);\n",
              "            Plotly.purge(gd);\n",
              "            observer.disconnect();\n",
              "        }}\n",
              "}});\n",
              "\n",
              "// Listen for the removal of the full notebook cells\n",
              "var notebookContainer = gd.closest('#notebook-container');\n",
              "if (notebookContainer) {{\n",
              "    x.observe(notebookContainer, {childList: true});\n",
              "}}\n",
              "\n",
              "// Listen for the clearing of the current output cell\n",
              "var outputEl = gd.closest('.output');\n",
              "if (outputEl) {{\n",
              "    x.observe(outputEl, {childList: true});\n",
              "}}\n",
              "\n",
              "                        })\n",
              "                };\n",
              "                \n",
              "            </script>\n",
              "        </div>\n",
              "</body>\n",
              "</html>"
            ]
          },
          "metadata": {
            "tags": []
          }
        }
      ]
    },
    {
      "cell_type": "code",
      "metadata": {
        "colab": {
          "base_uri": "https://localhost:8080/",
          "height": 1000
        },
        "id": "idYsGb76Bnmq",
        "outputId": "0d9b16a4-bd8b-43d8-ec53-d25fd4411e6c"
      },
      "source": [
        "def plot_cluster(c):\n",
        "    df[kmeans_clusters == c]['type'].value_counts().plot(kind='bar',color=['purple', 'green', 'lavender', 'blue', 'cyan'], title=\"Cluster #{}\".format(c))\n",
        "    plt.show()\n",
        "\n",
        "\n",
        "plot_cluster(0)\n",
        "plot_cluster(1)\n",
        "plot_cluster(2)\n",
        "plot_cluster(3)\n",
        "plot_cluster(4)"
      ],
      "execution_count": null,
      "outputs": [
        {
          "output_type": "display_data",
          "data": {
            "image/png": "[encoded data removed]",
            "text/plain": [
              "<Figure size 432x288 with 1 Axes>"
            ]
          },
          "metadata": {
            "tags": [],
            "needs_background": "light"
          }
        },
        {
          "output_type": "display_data",
          "data": {
            "image/png": "[encoded data removed]",
            "text/plain": [
              "<Figure size 432x288 with 1 Axes>"
            ]
          },
          "metadata": {
            "tags": [],
            "needs_background": "light"
          }
        },
        {
          "output_type": "display_data",
          "data": {
            "image/png": "[encoded data removed]",
            "text/plain": [
              "<Figure size 432x288 with 1 Axes>"
            ]
          },
          "metadata": {
            "tags": [],
            "needs_background": "light"
          }
        },
        {
          "output_type": "display_data",
          "data": {
            "image/png": "[encoded data removed]",
            "text/plain": [
              "<Figure size 432x288 with 1 Axes>"
            ]
          },
          "metadata": {
            "tags": [],
            "needs_background": "light"
          }
        },
        {
          "output_type": "display_data",
          "data": {
            "image/png": "[encoded data removed]",
            "text/plain": [
              "<Figure size 432x288 with 1 Axes>"
            ]
          },
          "metadata": {
            "tags": [],
            "needs_background": "light"
          }
        }
      ]
    },
    {
      "cell_type": "code",
      "metadata": {
        "colab": {
          "base_uri": "https://localhost:8080/"
        },
        "id": "TnddOXFb1yfH",
        "outputId": "3ed7b526-d3ac-4b30-ad0f-79efb3d03986"
      },
      "source": [
        "del wordcloud\n",
        "gc.collect()"
      ],
      "execution_count": null,
      "outputs": [
        {
          "output_type": "execute_result",
          "data": {
            "text/plain": [
              "244"
            ]
          },
          "metadata": {
            "tags": []
          },
          "execution_count": 121
        }
      ]
    },
    {
      "cell_type": "code",
      "metadata": {
        "colab": {
          "base_uri": "https://localhost:8080/"
        },
        "id": "Dl7xf8obkArJ",
        "outputId": "f3299e42-0e25-4047-b676-4bd5d414522d"
      },
      "source": [
        "from sklearn.metrics import homogeneity_score\n",
        "homogeneity_score(df.cluster, kmeans.predict(trainMatrix))"
      ],
      "execution_count": null,
      "outputs": [
        {
          "output_type": "execute_result",
          "data": {
            "text/plain": [
              "1.0"
            ]
          },
          "metadata": {
            "tags": []
          },
          "execution_count": 51
        }
      ]
    },
    {
      "cell_type": "code",
      "metadata": {
        "id": "w3LKPTUcsyAa"
      },
      "source": [
        "train, test = train_test_split(df)"
      ],
      "execution_count": null,
      "outputs": []
    },
    {
      "cell_type": "markdown",
      "metadata": {
        "id": "6D_rX8IuPmIO"
      },
      "source": [
        "# **Model training using LSTM**\n"
      ]
    },
    {
      "cell_type": "code",
      "metadata": {
        "colab": {
          "base_uri": "https://localhost:8080/"
        },
        "id": "e_mH6KHfPqV3",
        "outputId": "13af168e-698f-4a5f-faf0-945993cc54f3"
      },
      "source": [
        "from keras.utils import to_categorical\n",
        "from sklearn.preprocessing import LabelEncoder\n",
        "type_encoder = LabelEncoder()\n",
        "train[\"type\"] = type_encoder.fit_transform(train[\"type\"])\n",
        "\n",
        "train_text=train.filter(['clean','cluster'])\n",
        "test_text=test.filter(['clean','cluster'])\n",
        "target=train.type.values\n",
        "y=to_categorical(target)\n",
        "print(train_text.shape,target.shape,y.shape)"
      ],
      "execution_count": null,
      "outputs": [
        {
          "output_type": "stream",
          "text": [
            "(203772, 2) (203772,) (203772, 5)\n"
          ],
          "name": "stdout"
        },
        {
          "output_type": "stream",
          "text": [
            "/usr/local/lib/python3.7/dist-packages/ipykernel_launcher.py:4: SettingWithCopyWarning:\n",
            "\n",
            "\n",
            "A value is trying to be set on a copy of a slice from a DataFrame.\n",
            "Try using .loc[row_indexer,col_indexer] = value instead\n",
            "\n",
            "See the caveats in the documentation: https://pandas.pydata.org/pandas-docs/stable/user_guide/indexing.html#returning-a-view-versus-a-copy\n",
            "\n"
          ],
          "name": "stderr"
        }
      ]
    },
    {
      "cell_type": "code",
      "metadata": {
        "colab": {
          "base_uri": "https://localhost:8080/"
        },
        "id": "ZghTytt2QvqN",
        "outputId": "b303adca-568b-467d-ad69-efbfe2881aba"
      },
      "source": [
        "X_train_text,X_val_text,y_train,y_val=train_test_split(train_text,y,test_size=0.2,stratify=y,random_state=123)\n",
        "print(X_train_text.shape,y_train.shape)\n",
        "print(X_val_text.shape,y_val.shape)"
      ],
      "execution_count": null,
      "outputs": [
        {
          "output_type": "stream",
          "text": [
            "(163017, 2) (163017, 5)\n",
            "(40755, 2) (40755, 5)\n"
          ],
          "name": "stdout"
        }
      ]
    },
    {
      "cell_type": "code",
      "metadata": {
        "id": "m3U0jmpGQxuv"
      },
      "source": [
        "all_words=' '.join(X_train_text.clean.values)\n",
        "all_words=word_tokenize(all_words)\n",
        "dist=FreqDist(all_words)\n",
        "num_unique_word=len(dist)"
      ],
      "execution_count": null,
      "outputs": []
    },
    {
      "cell_type": "code",
      "metadata": {
        "id": "kOBv4nVOQxzC"
      },
      "source": [
        "r_len=[]\n",
        "for text in X_train_text.clean.values:\n",
        "    word=text.split()\n",
        "    l=len(word)\n",
        "    r_len.append(l)\n",
        "    \n",
        "MAX_REVIEW_LEN=np.max(r_len)"
      ],
      "execution_count": null,
      "outputs": []
    },
    {
      "cell_type": "code",
      "metadata": {
        "id": "Q-yRkv4xQx3g"
      },
      "source": [
        "max_features = num_unique_word\n",
        "max_words = MAX_REVIEW_LEN\n",
        "batch_size = 128\n",
        "epochs = 3\n",
        "num_classes=5"
      ],
      "execution_count": null,
      "outputs": []
    },
    {
      "cell_type": "code",
      "metadata": {
        "id": "uf3-_SiBT7Ij"
      },
      "source": [
        "tokenizer = Tokenizer(num_words=max_features)\n",
        "tokenizer.fit_on_texts(list(X_train_text.clean.values))\n",
        "X_train = tokenizer.texts_to_sequences(X_train_text.clean.values)\n",
        "X_val = tokenizer.texts_to_sequences(X_val_text.clean.values)\n",
        "X_test = tokenizer.texts_to_sequences(test.clean.values)"
      ],
      "execution_count": null,
      "outputs": []
    },
    {
      "cell_type": "code",
      "metadata": {
        "colab": {
          "base_uri": "https://localhost:8080/"
        },
        "id": "pTeZlxWbjVJF",
        "outputId": "a93b8a17-2be7-451a-9738-2090e30dec8a"
      },
      "source": [
        "from psutil import virtual_memory\n",
        "ram_gb = virtual_memory().total / 1e9\n",
        "print('Your runtime has {:.1f} gigabytes of available RAM\\n'.format(ram_gb))"
      ],
      "execution_count": null,
      "outputs": [
        {
          "output_type": "stream",
          "text": [
            "Your runtime has 27.4 gigabytes of available RAM\n",
            "\n"
          ],
          "name": "stdout"
        }
      ]
    },
    {
      "cell_type": "code",
      "metadata": {
        "colab": {
          "base_uri": "https://localhost:8080/"
        },
        "id": "k3wKY8bVUpr6",
        "outputId": "d07a5336-6646-49c4-ddb5-ef24db7e5ac8"
      },
      "source": [
        "X_train = sequence.pad_sequences(X_train, maxlen=None)\n",
        "X_val = sequence.pad_sequences(X_val, maxlen=None)\n",
        "X_test = sequence.pad_sequences(X_test, maxlen=None)\n",
        "print(X_train.shape,X_val.shape,X_test.shape)"
      ],
      "execution_count": null,
      "outputs": [
        {
          "output_type": "stream",
          "text": [
            "(163017, 16788) (40755, 9998) (67925, 12413)\n"
          ],
          "name": "stdout"
        }
      ]
    },
    {
      "cell_type": "code",
      "metadata": {
        "colab": {
          "base_uri": "https://localhost:8080/"
        },
        "id": "PBo-kw8UVOmS",
        "outputId": "c0a2b52b-1ce9-4970-a9f7-d025fdef1428"
      },
      "source": [
        "EMBEDDING_DIM = 100\n",
        "model = Sequential()\n",
        "model.add(Embedding(max_features, EMBEDDING_DIM))\n",
        "model.add(SpatialDropout1D(0.2))\n",
        "model.add(LSTM(32, dropout=0.2))\n",
        "model.add(Dense(5, activation='softmax'))\n",
        "model.compile(loss='categorical_crossentropy', optimizer='adam', metrics=['accuracy'])\n",
        "print(model.summary())"
      ],
      "execution_count": null,
      "outputs": [
        {
          "output_type": "stream",
          "text": [
            "Model: \"sequential\"\n",
            "_________________________________________________________________\n",
            "Layer (type)                 Output Shape              Param #   \n",
            "=================================================================\n",
            "embedding (Embedding)        (None, None, 100)         39100000  \n",
            "_________________________________________________________________\n",
            "spatial_dropout1d (SpatialDr (None, None, 100)         0         \n",
            "_________________________________________________________________\n",
            "lstm (LSTM)                  (None, 32)                17024     \n",
            "_________________________________________________________________\n",
            "dense (Dense)                (None, 5)                 165       \n",
            "=================================================================\n",
            "Total params: 39,117,189\n",
            "Trainable params: 39,117,189\n",
            "Non-trainable params: 0\n",
            "_________________________________________________________________\n",
            "None\n"
          ],
          "name": "stdout"
        }
      ]
    },
    {
      "cell_type": "markdown",
      "metadata": {
        "id": "iZqE25SL_hl-"
      },
      "source": [
        "#Model Fit"
      ]
    },
    {
      "cell_type": "code",
      "metadata": {
        "colab": {
          "base_uri": "https://localhost:8080/"
        },
        "id": "x29A9Lcxa2ol",
        "outputId": "b1e2352f-67ac-44e7-db62-f8c1564928c0"
      },
      "source": [
        "%%time\n",
        "epochs = 3\n",
        "batch_size = 32\n",
        "#history = model.fit(X_train, y_train, validation_data=(X_val, y_val),epochs=epochs, batch_size=batch_size,verbose=1)\n",
        "history = model.fit(X_train, y_train, validation_data=(X_val, y_val), epochs=epochs, batch_size=batch_size,validation_split=0.1,callbacks=[EarlyStopping(monitor='val_loss', patience=3, min_delta=0.0001)])"
      ],
      "execution_count": null,
      "outputs": [
        {
          "output_type": "stream",
          "text": [
            "Epoch 1/3\n",
            "4585/4585 [==============================] - 3319s 720ms/step - loss: 0.5132 - accuracy: 0.8203 - val_loss: 0.2239 - val_accuracy: 0.9260\n",
            "Epoch 2/3\n",
            "4585/4585 [==============================] - 3294s 718ms/step - loss: 0.2015 - accuracy: 0.9363 - val_loss: 0.2196 - val_accuracy: 0.9333\n",
            "Epoch 3/3\n",
            "4585/4585 [==============================] - 3300s 720ms/step - loss: 0.1476 - accuracy: 0.9532 - val_loss: 0.2042 - val_accuracy: 0.9328\n",
            "CPU times: user 4h 5min 37s, sys: 26min 11s, total: 4h 31min 48s\n",
            "Wall time: 2h 45min 12s\n"
          ],
          "name": "stdout"
        }
      ]
    },
    {
      "cell_type": "code",
      "metadata": {
        "id": "OErNOr8FS-ZS"
      },
      "source": [
        "#model_save_name = 'LSTM_model2.pt'\n",
        "#path = F\"/content/drive/My Drive/{model_save_name}\" \n",
        "#model.save(F\"/content/drive/MyDrive/NEW_LSTM2.h5\")"
      ],
      "execution_count": null,
      "outputs": []
    },
    {
      "cell_type": "markdown",
      "metadata": {
        "id": "h0Eg2o-j_7GN"
      },
      "source": [
        "#**Model Test**"
      ]
    },
    {
      "cell_type": "code",
      "metadata": {
        "colab": {
          "base_uri": "https://localhost:8080/"
        },
        "id": "69XeRcBpXxcd",
        "outputId": "c34d8d5a-057f-4ec0-dc85-9bf952375f04"
      },
      "source": [
        "predictions_test = model.predict_classes(X_val,verbose=1)"
      ],
      "execution_count": null,
      "outputs": [
        {
          "output_type": "stream",
          "text": [
            "/usr/local/lib/python3.7/dist-packages/tensorflow/python/keras/engine/sequential.py:450: UserWarning:\n",
            "\n",
            "`model.predict_classes()` is deprecated and will be removed after 2021-01-01. Please use instead:* `np.argmax(model.predict(x), axis=-1)`,   if your model does multi-class classification   (e.g. if it uses a `softmax` last-layer activation).* `(model.predict(x) > 0.5).astype(\"int32\")`,   if your model does binary classification   (e.g. if it uses a `sigmoid` last-layer activation).\n",
            "\n"
          ],
          "name": "stderr"
        },
        {
          "output_type": "stream",
          "text": [
            "1274/1274 [==============================] - 190s 148ms/step\n"
          ],
          "name": "stdout"
        }
      ]
    },
    {
      "cell_type": "code",
      "metadata": {
        "colab": {
          "base_uri": "https://localhost:8080/"
        },
        "id": "8Cyd0FOsXxhk",
        "outputId": "e9f7e670-4002-45ef-c31d-d98fd11a05a9"
      },
      "source": [
        "unique, counts = np.unique(predictions_test, return_counts=True)\n",
        "dict(zip(unique, counts))"
      ],
      "execution_count": null,
      "outputs": [
        {
          "output_type": "execute_result",
          "data": {
            "text/plain": [
              "{0: 2297, 1: 16692, 2: 6463, 3: 8722, 4: 6581}"
            ]
          },
          "metadata": {
            "tags": []
          },
          "execution_count": 66
        }
      ]
    },
    {
      "cell_type": "markdown",
      "metadata": {
        "id": "NiO9l9I1-3hb"
      },
      "source": [
        "#Performance Metrics\n"
      ]
    },
    {
      "cell_type": "code",
      "metadata": {
        "colab": {
          "base_uri": "https://localhost:8080/"
        },
        "id": "aPsuQFXmG0Ao",
        "outputId": "684cd2a3-c08e-4bc2-9abd-c9538589ae48"
      },
      "source": [
        "acc = model.evaluate(X_val,y_val)\n",
        "print('Test set\\n  Loss: {:0.3f}\\n  Accuracy: {:0.3f}'.format(acc[0],acc[1]))"
      ],
      "execution_count": null,
      "outputs": [
        {
          "output_type": "stream",
          "text": [
            "1274/1274 [==============================] - 193s 151ms/step - loss: 0.2071 - accuracy: 0.9324\n",
            "Test set\n",
            "  Loss: 0.207\n",
            "  Accuracy: 0.932\n"
          ],
          "name": "stdout"
        }
      ]
    },
    {
      "cell_type": "code",
      "metadata": {
        "colab": {
          "base_uri": "https://localhost:8080/",
          "height": 299
        },
        "id": "_QdI3F_LG0QU",
        "outputId": "1dd41c0e-def0-45d7-97b4-f94ccd85ee7f"
      },
      "source": [
        "plt.title('Loss')\n",
        "plt.plot(history.history['loss'], label='train')\n",
        "plt.plot(history.history['val_loss'], label='test')\n",
        "plt.legend()\n",
        "plt.show();"
      ],
      "execution_count": null,
      "outputs": [
        {
          "output_type": "display_data",
          "data": {
            "image/png": "[encoded data removed]",
            "text/plain": [
              "<Figure size 432x288 with 1 Axes>"
            ]
          },
          "metadata": {
            "tags": [],
            "needs_background": "light"
          }
        }
      ]
    },
    {
      "cell_type": "code",
      "metadata": {
        "colab": {
          "base_uri": "https://localhost:8080/",
          "height": 299
        },
        "id": "aBzIEuGgXxwZ",
        "outputId": "11f302e1-03a5-48b1-b4aa-b76a03ef6868"
      },
      "source": [
        "plt.title('Accuracy')\n",
        "plt.plot(history.history['accuracy'], label='train')\n",
        "plt.plot(history.history['val_accuracy'], label='test')\n",
        "plt.legend()\n",
        "plt.show();"
      ],
      "execution_count": null,
      "outputs": [
        {
          "output_type": "display_data",
          "data": {
            "image/png": "[encoded data removed]",
            "text/plain": [
              "<Figure size 432x288 with 1 Axes>"
            ]
          },
          "metadata": {
            "tags": [],
            "needs_background": "light"
          }
        }
      ]
    },
    {
      "cell_type": "code",
      "metadata": {
        "colab": {
          "base_uri": "https://localhost:8080/"
        },
        "id": "6d3BUOJ51erT",
        "outputId": "73c777f2-14ee-40bc-9532-5ac73670c3c2"
      },
      "source": [
        "from sklearn.metrics import precision_score\n",
        "from sklearn.metrics import recall_score\n",
        "from sklearn.metrics import f1_score\n",
        "\n",
        "precision = precision_score(yx, predictions_test, average='weighted')\n",
        "print(\"Model Precision : \", precision)\n",
        "\n",
        "recall = recall_score(yx, predictions_test, average='weighted')\n",
        "print(\"Model Recall Score : \", recall)\n",
        "\n",
        "f1 = f1_score(yx, predictions_test, average='weighted')\n",
        "print(\"Model F1 Score : \", f1)"
      ],
      "execution_count": null,
      "outputs": [
        {
          "output_type": "stream",
          "text": [
            "Model Precision :  0.9330775100214844\n",
            "Model Recall Score :  0.9324500061342167\n",
            "Model F1 Score :  0.9325220578847031\n"
          ],
          "name": "stdout"
        }
      ]
    },
    {
      "cell_type": "markdown",
      "metadata": {
        "id": "N6bUfaSn-9nS"
      },
      "source": [
        "**Single additional test**"
      ]
    },
    {
      "cell_type": "code",
      "metadata": {
        "colab": {
          "base_uri": "https://localhost:8080/"
        },
        "id": "hILbn2PLHLjB",
        "outputId": "f2f270d7-999e-48cd-ef53-466c091e223f"
      },
      "source": [
        "new_article = ['Headline: Bitcoin & Blockchain Searches Exceed Trump! Blockchain Stocks Are Next! Quite frankly']\n",
        "seq = tokenizer.texts_to_sequences(new_article)\n",
        "padded = sequence.pad_sequences(seq, maxlen=max_words)\n",
        "pred = model.predict(padded)\n",
        "labels = [\"clickbait\",\"fake\",\"hate\",\"reliable\",\"satire\"]\n",
        "print(pred, labels[np.argmax(pred)])"
      ],
      "execution_count": null,
      "outputs": [
        {
          "output_type": "stream",
          "text": [
            "[[1.1508184e-04 9.9953961e-01 9.1264279e-05 1.8954473e-04 6.4518077e-05]] fake\n"
          ],
          "name": "stdout"
        }
      ]
    },
    {
      "cell_type": "code",
      "metadata": {
        "colab": {
          "base_uri": "https://localhost:8080/"
        },
        "id": "3T22Jq50ZfG2",
        "outputId": "26d37b22-79af-4bcb-da94-0cc0736bef1d"
      },
      "source": [
        "yx = np.argmax(y_val, axis=1)\n",
        "accuracy = accuracy_score(yx, predictions_test)\n",
        "print(\"Model Accuracy : \", accuracy)"
      ],
      "execution_count": null,
      "outputs": [
        {
          "output_type": "stream",
          "text": [
            "Model Accuracy :  0.9324500061342167\n"
          ],
          "name": "stdout"
        }
      ]
    }
  ]
}